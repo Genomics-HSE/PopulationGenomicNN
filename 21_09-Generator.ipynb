{
 "cells": [
  {
   "cell_type": "code",
   "execution_count": 6,
   "metadata": {},
   "outputs": [],
   "source": [
    "import utilities\n",
    "\n",
    "random_seed = 21092020"
   ]
  },
  {
   "cell_type": "code",
   "execution_count": 19,
   "metadata": {},
   "outputs": [
    {
     "data": {
      "text/plain": [
       "<generator object _replicate_generator at 0x140052580>"
      ]
     },
     "execution_count": 19,
     "metadata": {},
     "output_type": "execute_result"
    }
   ],
   "source": [
    "RHO_HUMAN = 1.6*10e-9\n",
    "MU_HUMAN = 1.25*10e-8\n",
    "POPULATION = 5000\n",
    "num_replicates = 1\n",
    "lengt = 3000000000\n",
    "is_experement = True\n",
    "\n",
    "dg = utilities.DataGenerator(\n",
    "    recombination_rate=RHO_HUMAN,\n",
    "    mutation_rate=MU_HUMAN,\n",
    "    demographic_events=utilities.generate_demographic_events(POPULATION),\n",
    "    num_replicates=num_replicates,\n",
    "    lengt=lengt,\n",
    "    random_seed=random_seed,\n",
    "    is_experement=is_experement)\n",
    "dg.run_simulation()"
   ]
  },
  {
   "cell_type": "code",
   "execution_count": 20,
   "metadata": {},
   "outputs": [
    {
     "name": "stdout",
     "output_type": "stream",
     "text": [
      "116.03263883886774\n",
      "14551.25334764176\n",
      "Experimente mode on\n"
     ]
    }
   ],
   "source": [
    "data = next(dg)"
   ]
  },
  {
   "cell_type": "code",
   "execution_count": 21,
   "metadata": {},
   "outputs": [],
   "source": [
    "haplotype, d_times, recombination_points, prioty_distribution, intervals_starts = data"
   ]
  },
  {
   "cell_type": "code",
   "execution_count": 22,
   "metadata": {},
   "outputs": [
    {
     "data": {
      "text/plain": [
       "[0.0,\n",
       " 0.0449922,\n",
       " 0.0123579,\n",
       " 0.0204027,\n",
       " 0.0125056,\n",
       " 0.059999,\n",
       " 0.0647093,\n",
       " 0.0703023,\n",
       " 0.0487088,\n",
       " 0.0775125,\n",
       " 0.0892061,\n",
       " 0.0827568,\n",
       " 0.1246362,\n",
       " 0.0873477,\n",
       " 0.0820259,\n",
       " 0.0563969,\n",
       " 0.0304263,\n",
       " 0.0167483,\n",
       " 0.0146025,\n",
       " 0.0034657,\n",
       " 0.0008973]"
      ]
     },
     "execution_count": 22,
     "metadata": {},
     "output_type": "execute_result"
    }
   ],
   "source": [
    "prioty_distribution"
   ]
  },
  {
   "cell_type": "code",
   "execution_count": 23,
   "metadata": {},
   "outputs": [
    {
     "data": {
      "text/plain": [
       "0.9999999999999999"
      ]
     },
     "execution_count": 23,
     "metadata": {},
     "output_type": "execute_result"
    }
   ],
   "source": [
    "sum(prioty_distribution)"
   ]
  },
  {
   "cell_type": "code",
   "execution_count": null,
   "metadata": {},
   "outputs": [],
   "source": [
    "N = 20 # Number of intervals\n",
    "prioty_distribution = [0.0 for i in range(N)]"
   ]
  },
  {
   "cell_type": "code",
   "execution_count": null,
   "metadata": {},
   "outputs": [],
   "source": [
    "import numpy as np\n",
    "coal_times = np.random.randint(1,21,size=100)"
   ]
  },
  {
   "cell_type": "code",
   "execution_count": null,
   "metadata": {},
   "outputs": [],
   "source": [
    "for t in coal_times:\n",
    "    prioty_distribution[t - 1] += 1"
   ]
  },
  {
   "cell_type": "code",
   "execution_count": null,
   "metadata": {},
   "outputs": [],
   "source": [
    "prioty_distribution = [p/sum(prioty_distribution) for p in prioty_distribution]"
   ]
  },
  {
   "cell_type": "code",
   "execution_count": null,
   "metadata": {},
   "outputs": [],
   "source": [
    "prioty_distribution"
   ]
  },
  {
   "cell_type": "code",
   "execution_count": null,
   "metadata": {},
   "outputs": [],
   "source": [
    "sum(prioty_distribution)"
   ]
  },
  {
   "cell_type": "code",
   "execution_count": null,
   "metadata": {},
   "outputs": [],
   "source": [
    "import numpy as np"
   ]
  },
  {
   "cell_type": "code",
   "execution_count": null,
   "metadata": {},
   "outputs": [],
   "source": [
    "np/"
   ]
  }
 ],
 "metadata": {
  "kernelspec": {
   "display_name": "Python 3",
   "language": "python",
   "name": "python3"
  },
  "language_info": {
   "codemirror_mode": {
    "name": "ipython",
    "version": 3
   },
   "file_extension": ".py",
   "mimetype": "text/x-python",
   "name": "python",
   "nbconvert_exporter": "python",
   "pygments_lexer": "ipython3",
   "version": "3.8.5"
  }
 },
 "nbformat": 4,
 "nbformat_minor": 4
}
