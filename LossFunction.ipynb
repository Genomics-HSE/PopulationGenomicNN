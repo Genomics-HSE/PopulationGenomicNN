{
 "cells": [
  {
   "cell_type": "code",
   "execution_count": null,
   "metadata": {},
   "outputs": [],
   "source": [
    "def LossLikelihood(distribution, parametr):\n",
    "    pass"
   ]
  },
  {
   "cell_type": "code",
   "execution_count": null,
   "metadata": {},
   "outputs": [],
   "source": [
    "N = 20\n",
    "import collections\n",
    "def LossDistributionCompare(distribution_A, distribution_B):\n",
    "    counter_A = collections.Counter()\n",
    "    counter_B = collections.Counter()\n",
    "    \n",
    "    norm_A = 0\n",
    "    norm_b = 0\n",
    "    for t in distribution_A:\n",
    "        counter_A[t] += 1\n",
    "        norm_A = 0\n",
    "    for t in distribution_B:\n",
    "        counter_B[t] += 1\n",
    "        norm_B = 0\n",
    "    dist_A = [.0 for j in range(N)]\n",
    "    dist_B = [.0 for j in range(N)]\n",
    "    \n",
    "    for key,value in counter_A:\n",
    "        dist_A[key-1] = value/norm_A\n",
    "    for key,value in counter_B:\n",
    "        dist_B[key-1] = value/norm_B\n",
    "        \n",
    "    total_error = 0.0\n",
    "    for i in range(N):\n",
    "        total_error += abs(dist_A[i] - dist_B[i])\n",
    "    return total_error"
   ]
  },
  {
   "cell_type": "code",
   "execution_count": 1,
   "metadata": {},
   "outputs": [],
   "source": [
    "a = {1:2}"
   ]
  },
  {
   "cell_type": "code",
   "execution_count": 6,
   "metadata": {},
   "outputs": [
    {
     "name": "stdout",
     "output_type": "stream",
     "text": [
      "1 2\n"
     ]
    }
   ],
   "source": [
    "for key,value in a.items():\n",
    "\n",
    "    print(key,value)"
   ]
  },
  {
   "cell_type": "code",
   "execution_count": 1,
   "metadata": {},
   "outputs": [],
   "source": [
    "def cache(func):\n",
    "    saved = dict()\n",
    "    def wrapper(n):\n",
    "        if n not in saved:\n",
    "            print(f'calculate for {n}')\n",
    "            saved[n] = func(n)\n",
    "        return saved[n]\n",
    "    return wrapper"
   ]
  },
  {
   "cell_type": "code",
   "execution_count": 2,
   "metadata": {},
   "outputs": [],
   "source": [
    "@cache\n",
    "def factorial(n):\n",
    "    if n == 0:\n",
    "        return 1\n",
    "    else:\n",
    "        return n*factorial(n-1)"
   ]
  },
  {
   "cell_type": "code",
   "execution_count": 5,
   "metadata": {},
   "outputs": [],
   "source": [
    "import numpy as np\n",
    "\n",
    "N = 20 # количество интервалов\n",
    "\n",
    "def loss(y):\n",
    "    n = [0 for i in range(N)]\n",
    "    L = len(y)\n",
    "    \n",
    "    for t in y:\n",
    "        n[t - 1] += 1\n",
    "    \n",
    "    pi = [i/L for i in n]\n",
    "    \n",
    "    return sum([sum([np.log(i) for i in range(n_k)]) for n_k in n]) + sum([n_k*np.log(pi_k) for n_k,pi_k in zip(n, pi)])"
   ]
  },
  {
   "cell_type": "code",
   "execution_count": null,
   "metadata": {},
   "outputs": [],
   "source": [
    "sum([sum([np.log(i) for i in range(j)]) for j in n])"
   ]
  }
 ],
 "metadata": {
  "kernelspec": {
   "display_name": "Python 3",
   "language": "python",
   "name": "python3"
  },
  "language_info": {
   "codemirror_mode": {
    "name": "ipython",
    "version": 3
   },
   "file_extension": ".py",
   "mimetype": "text/x-python",
   "name": "python",
   "nbconvert_exporter": "python",
   "pygments_lexer": "ipython3",
   "version": "3.7.4"
  }
 },
 "nbformat": 4,
 "nbformat_minor": 2
}
