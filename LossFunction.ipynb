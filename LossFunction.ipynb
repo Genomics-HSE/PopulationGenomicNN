{
 "cells": [
  {
   "cell_type": "code",
   "execution_count": null,
   "metadata": {},
   "outputs": [],
   "source": [
    "def LossLikelihood(distribution, parametr):\n",
    "    pass"
   ]
  },
  {
   "cell_type": "code",
   "execution_count": null,
   "metadata": {},
   "outputs": [],
   "source": [
    "N = 20\n",
    "import collections\n",
    "def LossDistributionCompare(distribution_A, distribution_B):\n",
    "    counter_A = collections.Counter()\n",
    "    counter_B = collections.Counter()\n",
    "    \n",
    "    norm_A = 0\n",
    "    norm_b = 0\n",
    "    for t in distribution_A:\n",
    "        counter_A[t] += 1\n",
    "        norm_A = 0\n",
    "    for t in distribution_B:\n",
    "        counter_B[t] += 1\n",
    "        norm_B = 0\n",
    "    dist_A = [.0 for j in range(N)]\n",
    "    dist_B = [.0 for j in range(N)]\n",
    "    \n",
    "    for key,value in counter_A:\n",
    "        dist_A[key-1] = value/norm_A\n",
    "    for key,value in counter_B:\n",
    "        dist_B[key-1] = value/norm_B\n",
    "        \n",
    "    total_error = 0.0\n",
    "    for i in range(N):\n",
    "        total_error += abs(dist_A[i] - dist_B[i])\n",
    "    return total_error"
   ]
  },
  {
   "cell_type": "code",
   "execution_count": 1,
   "metadata": {},
   "outputs": [],
   "source": [
    "a = {1:2}"
   ]
  },
  {
   "cell_type": "code",
   "execution_count": 6,
   "metadata": {},
   "outputs": [
    {
     "name": "stdout",
     "output_type": "stream",
     "text": [
      "1 2\n"
     ]
    }
   ],
   "source": [
    "for key,value in a.items():\n",
    "    print(key,value)"
   ]
  },
  {
   "cell_type": "code",
   "execution_count": null,
   "metadata": {},
   "outputs": [],
   "source": []
  }
 ],
 "metadata": {
  "kernelspec": {
   "display_name": "Python 3",
   "language": "python",
   "name": "python3"
  },
  "language_info": {
   "codemirror_mode": {
    "name": "ipython",
    "version": 3
   },
   "file_extension": ".py",
   "mimetype": "text/x-python",
   "name": "python",
   "nbconvert_exporter": "python",
   "pygments_lexer": "ipython3",
   "version": "3.7.4"
  }
 },
 "nbformat": 4,
 "nbformat_minor": 2
}
