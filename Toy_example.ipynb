{
 "cells": [
  {
   "cell_type": "code",
   "execution_count": 1,
   "metadata": {},
   "outputs": [],
   "source": [
    "import msprime\n",
    "import time"
   ]
  },
  {
   "cell_type": "code",
   "execution_count": 2,
   "metadata": {},
   "outputs": [],
   "source": [
    "import utilities"
   ]
  },
  {
   "cell_type": "code",
   "execution_count": 3,
   "metadata": {},
   "outputs": [
    {
     "data": {
      "text/plain": [
       "[{'type': 'population_parameters_change', 'time': 0, 'growth_rate': 0, 'initial_size': 507, 'population': -1},\n",
       " {'type': 'population_parameters_change', 'time': 0.2508834824413151, 'growth_rate': 0, 'initial_size': 2157, 'population': -1},\n",
       " {'type': 'population_parameters_change', 'time': 0.5382772482209923, 'growth_rate': 0, 'initial_size': 1542, 'population': -1},\n",
       " {'type': 'population_parameters_change', 'time': 1.3699766746291062, 'growth_rate': 0, 'initial_size': 1906, 'population': -1},\n",
       " {'type': 'population_parameters_change', 'time': 2.505964569257796, 'growth_rate': 0, 'initial_size': 2238, 'population': -1},\n",
       " {'type': 'population_parameters_change', 'time': 2.693402727067004, 'growth_rate': 0, 'initial_size': 117, 'population': -1},\n",
       " {'type': 'population_parameters_change', 'time': 5.8936929524547335, 'growth_rate': 0, 'initial_size': 2598, 'population': -1},\n",
       " {'type': 'population_parameters_change', 'time': 23.898324175938388, 'growth_rate': 0, 'initial_size': 1599, 'population': -1}]"
      ]
     },
     "execution_count": 3,
     "metadata": {},
     "output_type": "execute_result"
    }
   ],
   "source": [
    "events = utilities.generate_demographic_events()\n",
    "events"
   ]
  },
  {
   "cell_type": "code",
   "execution_count": 4,
   "metadata": {},
   "outputs": [
    {
     "name": "stdout",
     "output_type": "stream",
     "text": [
      "Simulation time = 0.00034618377685546875\n"
     ]
    }
   ],
   "source": [
    "Ne=1\n",
    "rho =  1.6*10e-9*Ne\n",
    "mu  = 1.25*10e-8*Ne\n",
    "genLen = int(3e6)\n",
    "start = time.time()\n",
    "data = msprime.simulate(sample_size=2, Ne=1, recombination_rate=rho, mutation_rate=mu, length=genLen, \n",
    "                        demographic_events=events,num_replicates=2)\n",
    "#data.mutations()\n",
    "end = time.time()\n",
    "print(\"Simulation time =\", end - start)"
   ]
  },
  {
   "cell_type": "code",
   "execution_count": 5,
   "metadata": {},
   "outputs": [
    {
     "name": "stdout",
     "output_type": "stream",
     "text": [
      "Simulation time = 0.008759021759033203\n"
     ]
    }
   ],
   "source": [
    "start = time.time()\n",
    "i = next(data)\n",
    "end = time.time()\n",
    "print(\"Simulation time =\", end - start)"
   ]
  },
  {
   "cell_type": "code",
   "execution_count": 6,
   "metadata": {},
   "outputs": [
    {
     "data": {
      "text/plain": [
       "2289"
      ]
     },
     "execution_count": 6,
     "metadata": {},
     "output_type": "execute_result"
    }
   ],
   "source": [
    "haplotype = [0] * genLen\n",
    "\n",
    "for mutation in i.mutations():\n",
    "    point = round(mutation.position)\n",
    "    haplotype[point] = 1\n",
    "sum(haplotype)"
   ]
  },
  {
   "cell_type": "code",
   "execution_count": null,
   "metadata": {},
   "outputs": [],
   "source": []
  },
  {
   "cell_type": "code",
   "execution_count": null,
   "metadata": {},
   "outputs": [],
   "source": []
  }
 ],
 "metadata": {
  "kernelspec": {
   "display_name": "Python 3",
   "language": "python",
   "name": "python3"
  },
  "language_info": {
   "codemirror_mode": {
    "name": "ipython",
    "version": 3
   },
   "file_extension": ".py",
   "mimetype": "text/x-python",
   "name": "python",
   "nbconvert_exporter": "python",
   "pygments_lexer": "ipython3",
   "version": "3.8.0"
  }
 },
 "nbformat": 4,
 "nbformat_minor": 2
}
