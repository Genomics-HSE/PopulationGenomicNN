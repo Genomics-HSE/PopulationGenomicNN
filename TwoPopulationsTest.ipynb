{
 "cells": [
  {
   "cell_type": "code",
   "execution_count": 1,
   "metadata": {},
   "outputs": [],
   "source": [
    "# https://msprime.readthedocs.io/en/stable/tutorial.html#demography"
   ]
  },
  {
   "cell_type": "code",
   "execution_count": 24,
   "metadata": {},
   "outputs": [],
   "source": [
    "import numpy as np\n",
    "import msprime"
   ]
  },
  {
   "cell_type": "code",
   "execution_count": 18,
   "metadata": {},
   "outputs": [],
   "source": [
    "population_configurations = [\n",
    "    msprime.PopulationConfiguration(\n",
    "        sample_size=1, initial_size=100),\n",
    "    msprime.PopulationConfiguration(\n",
    "        sample_size=1, initial_size=200, growth_rate=-0.01)\n",
    "]\n",
    "# What's wrong with growth_rate? Why population does growth only if it's negative?"
   ]
  },
  {
   "cell_type": "code",
   "execution_count": 39,
   "metadata": {},
   "outputs": [],
   "source": [
    "def create_N_population(populations_parametrs: dict) -> list:\n",
    "    \"\"\"\n",
    "    population_parametrs: {population_name:str : [sample_size:int, initial_size:float, growth_rate:float]}\n",
    "    \"\"\"\n",
    "    populations_configuration = []\n",
    "    for population_name, parametrs in populations_parametrs.items():\n",
    "        if len(parametrs)  == 3:\n",
    "            sample_size, initial_size, growth_rate = parametrs\n",
    "        elif len(parametrs)  == 2:\n",
    "            sample_size, initial_size = parametrs\n",
    "        else:\n",
    "            raise f\"Number ov parametrs error: expected 2 or 3, but got {len(parametrs)}\"\n",
    "        populations_configuration.append(\n",
    "            msprime.PopulationConfiguration(\n",
    "                sample_size=sample_size, \n",
    "                initial_size=initial_size, \n",
    "                growth_rate=growth_rate)\n",
    "        )\n",
    "    return populations_configuration"
   ]
  },
  {
   "cell_type": "code",
   "execution_count": 51,
   "metadata": {},
   "outputs": [],
   "source": [
    "def create_random_migration_matrix(N: int, max_migration_rate, is_semmetric = True):\n",
    "    migration_matrix = np.zeros(shape=(N,N))\n",
    "    for i in range(N):\n",
    "        for j in range(i + 1,N):\n",
    "            migration_matrix[i][j] = np.random.random()*max_migration_rate\n",
    "            if is_semmetric:\n",
    "                migration_matrix[j][i] = migration_matrix[i][j]\n",
    "            else:\n",
    "                migration_matrix[j][i] = np.random.random()*max_migration_rate\n",
    "    return migration_matrix"
   ]
  },
  {
   "cell_type": "markdown",
   "metadata": {},
   "source": [
    "    demographic_events = [\n",
    "        # CEU and CHB merge into B with rate changes at T_EU_AS\n",
    "        msprime.MassMigration(\n",
    "            time=T_EU_AS, source=2, destination=1, proportion=1.0),\n",
    "        msprime.MigrationRateChange(time=T_EU_AS, rate=0),\n",
    "        msprime.MigrationRateChange(\n",
    "            time=T_EU_AS, rate=m_AF_B, matrix_index=(0, 1)),\n",
    "        msprime.MigrationRateChange(\n",
    "            time=T_EU_AS, rate=m_AF_B, matrix_index=(1, 0)),\n",
    "        msprime.PopulationParametersChange(\n",
    "            time=T_EU_AS, initial_size=N_B, growth_rate=0, population_id=1),\n",
    "        # Population B merges into YRI at T_B\n",
    "        msprime.MassMigration(\n",
    "            time=T_B, source=1, destination=0, proportion=1.0),\n",
    "        msprime.MigrationRateChange(time=T_B, rate=0),\n",
    "        # Size changes to N_A at T_AF\n",
    "        msprime.PopulationParametersChange(\n",
    "            time=T_AF, initial_size=N_A, population_id=0)\n",
    "    ]"
   ]
  },
  {
   "cell_type": "code",
   "execution_count": null,
   "metadata": {},
   "outputs": [],
   "source": [
    "def create_demographic_events():\n",
    "    pass"
   ]
  },
  {
   "cell_type": "code",
   "execution_count": 54,
   "metadata": {},
   "outputs": [
    {
     "data": {
      "text/plain": [
       "array([[0.        , 0.032014  , 0.48827214],\n",
       "       [0.42309006, 0.        , 0.89217211],\n",
       "       [0.90292258, 0.64732618, 0.        ]])"
      ]
     },
     "execution_count": 54,
     "metadata": {},
     "output_type": "execute_result"
    }
   ],
   "source": [
    "create_random_migration_matrix(3,1,is_semmetric=False)"
   ]
  },
  {
   "cell_type": "code",
   "execution_count": 55,
   "metadata": {},
   "outputs": [
    {
     "name": "stdout",
     "output_type": "stream",
     "text": [
      "Model =  hudson(reference_size=1)\n",
      "===========================\n",
      "Epoch: 0 -- inf generations\n",
      "===========================\n",
      "     start     end      growth_rate |     0        1    \n",
      "   -------- --------       -------- | -------- -------- \n",
      "0 |   100      100                0 |     0    0.000719 \n",
      "1 |   200      inf            -0.01 | 0.000719     0    \n",
      "\n"
     ]
    }
   ],
   "source": [
    "dd = msprime.DemographyDebugger(\n",
    "    population_configurations=population_configurations,\n",
    "    migration_matrix=create_random_migration_matrix(2,0.001)\n",
    ")\n",
    "dd.print_history()"
   ]
  },
  {
   "cell_type": "code",
   "execution_count": 28,
   "metadata": {},
   "outputs": [],
   "source": [
    "a = {1: [2]}"
   ]
  },
  {
   "cell_type": "code",
   "execution_count": 43,
   "metadata": {},
   "outputs": [
    {
     "name": "stdout",
     "output_type": "stream",
     "text": [
      "0 1\n",
      "0 2\n",
      "0 3\n",
      "1 2\n",
      "1 3\n",
      "2 3\n"
     ]
    }
   ],
   "source": [
    "N = 3\n",
    "N = N + 1\n",
    "for i in range(N):\n",
    "    for j in range(i + 1,N):\n",
    "        print(i,j)"
   ]
  },
  {
   "cell_type": "code",
   "execution_count": 44,
   "metadata": {},
   "outputs": [
    {
     "data": {
      "text/plain": [
       "0.4124321751035316"
      ]
     },
     "execution_count": 44,
     "metadata": {},
     "output_type": "execute_result"
    }
   ],
   "source": [
    "np.random.random()*"
   ]
  },
  {
   "cell_type": "code",
   "execution_count": null,
   "metadata": {},
   "outputs": [],
   "source": []
  }
 ],
 "metadata": {
  "kernelspec": {
   "display_name": "Python 3.7.0 64-bit ('msprime-env': conda)",
   "language": "python",
   "name": "python37064bitmsprimeenvconda368cc9cf1606405991e90790f6340b23"
  },
  "language_info": {
   "codemirror_mode": {
    "name": "ipython",
    "version": 3
   },
   "file_extension": ".py",
   "mimetype": "text/x-python",
   "name": "python",
   "nbconvert_exporter": "python",
   "pygments_lexer": "ipython3",
   "version": "3.7.0"
  }
 },
 "nbformat": 4,
 "nbformat_minor": 2
}
