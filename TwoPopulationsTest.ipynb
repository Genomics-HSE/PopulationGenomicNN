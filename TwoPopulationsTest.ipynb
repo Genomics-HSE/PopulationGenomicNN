{
 "cells": [
  {
   "cell_type": "code",
   "execution_count": 1,
   "metadata": {},
   "outputs": [],
   "source": [
    "# https://msprime.readthedocs.io/en/stable/tutorial.html#demography"
   ]
  },
  {
   "cell_type": "code",
   "execution_count": 56,
   "metadata": {},
   "outputs": [],
   "source": [
    "from math import (exp, log)\n",
    "import numpy as np\n",
    "import msprime"
   ]
  },
  {
   "cell_type": "code",
   "execution_count": 85,
   "metadata": {},
   "outputs": [],
   "source": [
    "RHO_HUMAN = 1.6*10e-9\n",
    "MU_HUMAN = 1.25*10e-8\n",
    "RHO_LIMIT = (log(RHO_HUMAN)-100, log(RHO_HUMAN)+100)\n",
    "MU_LIMIT = (log(MU_HUMAN)-100, log(MU_HUMAN)+100)\n",
    "\n",
    "LENGTH_NORMALIZE_CONST = 4\n",
    "ZIPPED = False\n",
    "NUMBER_OF_EVENTS_LIMITS = (1, 20)\n",
    "MAX_T_LIMITS = (0.01, 30)\n",
    "LAMBDA_EXP = 1.0\n",
    "POPULATION_LIMITS = (250, 100000)\n",
    "POPULATION = 5000\n",
    "\n",
    "IS_SEMMETRIC = True\n",
    "\n",
    "N = 20\n",
    "\n",
    "RANDOM_SEED = 42\n",
    "np.random.seed(RANDOM_SEED)"
   ]
  },
  {
   "cell_type": "code",
   "execution_count": 18,
   "metadata": {},
   "outputs": [],
   "source": [
    "population_configurations = [\n",
    "    msprime.PopulationConfiguration(\n",
    "        sample_size=1, initial_size=100),\n",
    "    msprime.PopulationConfiguration(\n",
    "        sample_size=1, initial_size=200, growth_rate=-0.01)\n",
    "]\n",
    "# What's wrong with growth_rate? Why population does growth only if it's negative?"
   ]
  },
  {
   "cell_type": "code",
   "execution_count": 39,
   "metadata": {},
   "outputs": [],
   "source": [
    "def create_N_population(populations_parametrs: dict) -> list:\n",
    "    \"\"\"\n",
    "    population_parametrs: {population_name:int : [sample_size:int, initial_size:float, growth_rate:float]}\n",
    "    \"\"\"\n",
    "    populations_configuration = []\n",
    "    for population_name, parametrs in populations_parametrs.items():\n",
    "        if len(parametrs)  == 3:\n",
    "            sample_size, initial_size, growth_rate = parametrs\n",
    "        elif len(parametrs)  == 2:\n",
    "            sample_size, initial_size = parametrs\n",
    "        else:\n",
    "            raise f\"Number ov parametrs error: expected 2 or 3, but got {len(parametrs)}\"\n",
    "        populations_configuration.append(\n",
    "            msprime.PopulationConfiguration(\n",
    "                sample_size=sample_size, \n",
    "                initial_size=initial_size, \n",
    "                growth_rate=growth_rate)\n",
    "        )\n",
    "    return populations_configuration"
   ]
  },
  {
   "cell_type": "code",
   "execution_count": 51,
   "metadata": {},
   "outputs": [],
   "source": [
    "def create_random_migration_matrix(N: int, max_migration_rate, is_semmetric = IS_SEMMETRIC):\n",
    "    migration_matrix = np.zeros(shape=(N,N))\n",
    "    for i in range(N):\n",
    "        for j in range(i + 1,N):\n",
    "            migration_matrix[i][j] = np.random.random()*max_migration_rate\n",
    "            if is_semmetric:\n",
    "                migration_matrix[j][i] = migration_matrix[i][j]\n",
    "            else:\n",
    "                migration_matrix[j][i] = np.random.random()*max_migration_rate\n",
    "    return migration_matrix"
   ]
  },
  {
   "cell_type": "markdown",
   "metadata": {},
   "source": [
    "    demographic_events = [\n",
    "        # CEU and CHB merge into B with rate changes at T_EU_AS\n",
    "        \n",
    "        msprime.MassMigration(\n",
    "         time=T_EU_AS, source=2, destination=1, proportion=1.0)\n",
    "            ,\n",
    "        msprime.MigrationRateChange(time=T_EU_AS, rate=0),\n",
    "        msprime.MigrationRateChange(\n",
    "            time=T_EU_AS, rate=m_AF_B, matrix_index=(0, 1)),\n",
    "        msprime.MigrationRateChange(\n",
    "            time=T_EU_AS, rate=m_AF_B, matrix_index=(1, 0)),\n",
    "        msprime.PopulationParametersChange(\n",
    "            time=T_EU_AS, initial_size=N_B, growth_rate=0, population_id=1),\n",
    "        # Population B merges into YRI at T_B\n",
    "        msprime.MassMigration(\n",
    "            time=T_B, source=1, destination=0, proportion=1.0),\n",
    "        msprime.MigrationRateChange(time=T_B, rate=0),\n",
    "        # Size changes to N_A at T_AF\n",
    "        msprime.PopulationParametersChange(\n",
    "            time=T_AF, initial_size=N_A, population_id=0)\n",
    "    ]"
   ]
  },
  {
   "cell_type": "code",
   "execution_count": 119,
   "metadata": {},
   "outputs": [],
   "source": [
    "MAX_MIGRATION_RATE = 10\n",
    "\n",
    "def create_MassMigration(time: float, number_of_populations: int, populations: list) -> list:\n",
    "    if number_of_populations == 1:\n",
    "        raise \"Only one population\"\n",
    "    source, destination = 0,0\n",
    "    while source == destination:\n",
    "        source, destination = np.random.randint(number_of_populations,size=2)\n",
    "    proportion = min(np.random.rand(), 1.0) # learn max of np.random.rand()\n",
    "    return [msprime.MassMigration(time=time,source=source,destination=destination, proportion=proportion)]\n",
    "\n",
    "def create_MigrationRateChange(time: float, number_of_populations: int, populations: list) -> list:\n",
    "    rate = np.random.random()*MAX_MIGRATION_RATE\n",
    "    i,j = np.random.randint(low=number_of_populations,size=(2))\n",
    "    while i == j:\n",
    "        i,j = np.random.randint(low=number_of_populations,size=(2))\n",
    "    migration = [msprime.MigrationRateChange(time=time,rate=rate,matrix_index=(i,j))]\n",
    "    if IS_SEMMETRIC:\n",
    "        migration.append(msprime.MigrationRateChange(time=time,rate=rate,matrix_index=(j,i)))\n",
    "    return migration\n",
    "    \n",
    "def create_PopulationParametersChange(time: float, number_of_populations: int, populations: list) -> list:\n",
    "    population_id = np.random.randint(number_of_populations)\n",
    "    size = int(np.random.beta(a=2, b=5) * populations[population_id])\n",
    "    while size <= 0:\n",
    "        size = int(np.random.beta(a=2, b=5) * populations[population_id])\n",
    "    return [msprime.PopulationParametersChange(time=time, initial_size=size, population_id=population_id)]\n",
    "\n",
    "events = {\n",
    "    \"MassMigration\": create_MassMigration,\n",
    "    \"MigrationRateChange\": create_MigrationRateChange,\n",
    "    \"PopulationParametersChange\": create_PopulationParametersChange,\n",
    "}\n",
    "\n",
    "events = [create_MassMigration,create_MigrationRateChange,create_PopulationParametersChange]\n",
    "\n",
    "def create_demographic_events(number_of_populations: int, populations: list) -> list:\n",
    "    \"\"\"\n",
    "    \"\"\"\n",
    "    low, high = NUMBER_OF_EVENTS_LIMITS\n",
    "    number_of_events = np.random.randint(low=low, high=high)\n",
    "    times = sorted(np.random.exponential(LAMBDA_EXP, size=number_of_events))\n",
    "    low, high = MAX_T_LIMITS\n",
    "    max_t = np.random.uniform(low=low, high=high)\n",
    "    \n",
    "    alpha = 1.0\n",
    "    beta = np.log(max_t + 1)/times[-1]\n",
    "\n",
    "    def to_exp_time(time: float) -> float:\n",
    "        # time -> exponentional time\n",
    "        return alpha*(np.exp(beta*time) - 1)\n",
    "    \n",
    "    exp_times = [to_exp_time(t) for t in times]\n",
    "    \n",
    "    demographic_events = []\n",
    "    for time in exp_times:\n",
    "        event = np.random.choice(events)(time, number_of_populations, populations)\n",
    "        for ev in event:\n",
    "            demographic_events.append(ev)\n",
    "    return demographic_events"
   ]
  },
  {
   "cell_type": "code",
   "execution_count": 120,
   "metadata": {},
   "outputs": [
    {
     "data": {
      "text/plain": [
       "[{'type': 'mass_migration', 'time': 0.007315565144512037, 'source': 1, 'dest': 0, 'proportion': 0.08289132169335423},\n",
       " {'type': 'mass_migration', 'time': 0.03768476784689545, 'source': 1, 'dest': 0, 'proportion': 0.9632225394406113},\n",
       " {'type': 'mass_migration', 'time': 0.057237492074648344, 'source': 1, 'dest': 0, 'proportion': 0.04315991195057611},\n",
       " {'type': 'mass_migration', 'time': 0.07815105517674015, 'source': 1, 'dest': 0, 'proportion': 0.2529901679892411},\n",
       " {'type': 'population_parameters_change', 'time': 0.08409354322784646, 'growth_rate': None, 'initial_size': 2, 'population': 1},\n",
       " {'type': 'mass_migration', 'time': 0.3516277799970813, 'source': 0, 'dest': 1, 'proportion': 0.5843143119231002},\n",
       " {'type': 'population_parameters_change', 'time': 0.42245538966050744, 'growth_rate': None, 'initial_size': 2, 'population': 0},\n",
       " {'type': 'migration_rate_change', 'time': 0.4972899073092327, 'rate': 1.881211597237613, 'matrix_index': (1, 0)},\n",
       " {'type': 'migration_rate_change', 'time': 0.4972899073092327, 'rate': 1.881211597237613, 'matrix_index': (0, 1)},\n",
       " {'type': 'mass_migration', 'time': 0.542055988920954, 'source': 0, 'dest': 1, 'proportion': 0.032315951109650465},\n",
       " {'type': 'mass_migration', 'time': 0.6849795033657529, 'source': 1, 'dest': 0, 'proportion': 0.6847311725538793},\n",
       " {'type': 'mass_migration', 'time': 1.4439385940533147, 'source': 0, 'dest': 1, 'proportion': 0.07620037959916315},\n",
       " {'type': 'migration_rate_change', 'time': 1.607266487219897, 'rate': 9.49799913291924, 'matrix_index': (1, 0)},\n",
       " {'type': 'migration_rate_change', 'time': 1.607266487219897, 'rate': 9.49799913291924, 'matrix_index': (0, 1)},\n",
       " {'type': 'population_parameters_change', 'time': 3.5346121408453754, 'growth_rate': None, 'initial_size': 1, 'population': 0}]"
      ]
     },
     "execution_count": 120,
     "metadata": {},
     "output_type": "execute_result"
    }
   ],
   "source": [
    "create_demographic_events(2,[10,10])"
   ]
  },
  {
   "cell_type": "code",
   "execution_count": 121,
   "metadata": {},
   "outputs": [
    {
     "data": {
      "text/plain": [
       "0"
      ]
     },
     "execution_count": 121,
     "metadata": {},
     "output_type": "execute_result"
    }
   ],
   "source": [
    "np.random.randint(2)"
   ]
  },
  {
   "cell_type": "code",
   "execution_count": 122,
   "metadata": {},
   "outputs": [
    {
     "data": {
      "text/plain": [
       "array([[0.        , 0.37673897, 0.39298945],\n",
       "       [0.7495783 , 0.        , 0.56908147],\n",
       "       [0.82916422, 0.06351183, 0.        ]])"
      ]
     },
     "execution_count": 122,
     "metadata": {},
     "output_type": "execute_result"
    }
   ],
   "source": [
    "create_random_migration_matrix(3,1,is_semmetric=False)"
   ]
  },
  {
   "cell_type": "code",
   "execution_count": 123,
   "metadata": {},
   "outputs": [
    {
     "name": "stdout",
     "output_type": "stream",
     "text": [
      "Model =  hudson(reference_size=1)\n",
      "==========================================\n",
      "Epoch: 0 -- 2.2700182199703445 generations\n",
      "==========================================\n",
      "     start     end      growth_rate |     0        1    \n",
      "   -------- --------       -------- | -------- -------- \n",
      "0 |   100      100                0 |     0    3.68e-05 \n",
      "1 |   200      205            -0.01 | 3.68e-05     0    \n",
      "\n",
      "Events @ generation 2.2700182199703445\n",
      "   - Mass migration: Lineages moved with probability 0.9131657522576428 backwards in time with source 0 & dest 1\n",
      "                     (equivalent to migration from 1 to 0 forwards in time)\n",
      "============================================\n",
      "Epoch: 2.2700182199703445 -- inf generations\n",
      "============================================\n",
      "     start     end      growth_rate |     0        1    \n",
      "   -------- --------       -------- | -------- -------- \n",
      "0 |   100      100                0 |     0    3.68e-05 \n",
      "1 |   205      inf            -0.01 | 3.68e-05     0    \n",
      "\n"
     ]
    }
   ],
   "source": [
    "dd = msprime.DemographyDebugger(\n",
    "    population_configurations=population_configurations,\n",
    "    migration_matrix=create_random_migration_matrix(2,0.001),\n",
    "    demographic_events=create_demographic_events(2,[10,10])\n",
    ")\n",
    "dd.print_history()"
   ]
  },
  {
   "cell_type": "code",
   "execution_count": 117,
   "metadata": {},
   "outputs": [],
   "source": [
    "msprime.simulate(\n",
    "        sample_size=self.sample_size,\n",
    "        recombination_rate=self.recombination_rate,\n",
    "        mutation_rate=self.mutation_rate,\n",
    "        random_seed=self.random_seed,\n",
    "        model=self.model,\n",
    "        length=self.len,\n",
    "        num_replicates=self.num_replicates,\n",
    "        demographic_events=self.demographic_events\n",
    ")"
   ]
  },
  {
   "cell_type": "code",
   "execution_count": 43,
   "metadata": {},
   "outputs": [
    {
     "name": "stdout",
     "output_type": "stream",
     "text": [
      "0 1\n",
      "0 2\n",
      "0 3\n",
      "1 2\n",
      "1 3\n",
      "2 3\n"
     ]
    }
   ],
   "source": [
    "N = 3\n",
    "N = N + 1\n",
    "for i in range(N):\n",
    "    for j in range(i + 1,N):\n",
    "        print(i,j)"
   ]
  },
  {
   "cell_type": "code",
   "execution_count": 78,
   "metadata": {},
   "outputs": [],
   "source": [
    "source, destination = np.random.randint(2,size=2) + 1"
   ]
  },
  {
   "cell_type": "code",
   "execution_count": 82,
   "metadata": {},
   "outputs": [],
   "source": [
    "i,j = np.random.randint(low=2,size=(2))"
   ]
  },
  {
   "cell_type": "code",
   "execution_count": 83,
   "metadata": {},
   "outputs": [
    {
     "data": {
      "text/plain": [
       "(1, 0)"
      ]
     },
     "execution_count": 83,
     "metadata": {},
     "output_type": "execute_result"
    }
   ],
   "source": [
    "i,j"
   ]
  },
  {
   "cell_type": "code",
   "execution_count": 84,
   "metadata": {},
   "outputs": [
    {
     "ename": "TypeError",
     "evalue": "append() takes exactly one argument (2 given)",
     "output_type": "error",
     "traceback": [
      "\u001b[0;31m---------------------------------------------------------------------------\u001b[0m",
      "\u001b[0;31mTypeError\u001b[0m                                 Traceback (most recent call last)",
      "\u001b[0;32m<ipython-input-84-6251967fdda0>\u001b[0m in \u001b[0;36m<module>\u001b[0;34m\u001b[0m\n\u001b[1;32m      1\u001b[0m \u001b[0ma\u001b[0m \u001b[0;34m=\u001b[0m \u001b[0;34m[\u001b[0m\u001b[0;34m]\u001b[0m\u001b[0;34m\u001b[0m\u001b[0m\n\u001b[1;32m      2\u001b[0m \u001b[0mb\u001b[0m \u001b[0;34m=\u001b[0m \u001b[0;34m[\u001b[0m\u001b[0;36m1\u001b[0m\u001b[0;34m,\u001b[0m\u001b[0;36m2\u001b[0m\u001b[0;34m]\u001b[0m\u001b[0;34m\u001b[0m\u001b[0m\n\u001b[0;32m----> 3\u001b[0;31m \u001b[0ma\u001b[0m\u001b[0;34m.\u001b[0m\u001b[0mappend\u001b[0m\u001b[0;34m(\u001b[0m\u001b[0;34m*\u001b[0m\u001b[0mb\u001b[0m\u001b[0;34m)\u001b[0m\u001b[0;34m\u001b[0m\u001b[0m\n\u001b[0m",
      "\u001b[0;31mTypeError\u001b[0m: append() takes exactly one argument (2 given)"
     ]
    }
   ],
   "source": [
    "a = []\n",
    "b = [1,2]\n",
    "a.append(*b)"
   ]
  },
  {
   "cell_type": "code",
   "execution_count": null,
   "metadata": {},
   "outputs": [],
   "source": []
  }
 ],
 "metadata": {
  "kernelspec": {
   "display_name": "Python 3.7.0 64-bit ('msprime-env': conda)",
   "language": "python",
   "name": "python37064bitmsprimeenvconda368cc9cf1606405991e90790f6340b23"
  },
  "language_info": {
   "codemirror_mode": {
    "name": "ipython",
    "version": 3
   },
   "file_extension": ".py",
   "mimetype": "text/x-python",
   "name": "python",
   "nbconvert_exporter": "python",
   "pygments_lexer": "ipython3",
   "version": "3.7.0"
  }
 },
 "nbformat": 4,
 "nbformat_minor": 2
}
