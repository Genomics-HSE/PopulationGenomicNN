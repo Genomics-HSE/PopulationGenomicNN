{
 "cells": [
  {
   "cell_type": "code",
   "execution_count": 1,
   "metadata": {},
   "outputs": [],
   "source": [
    "# https://msprime.readthedocs.io/en/stable/tutorial.html#demography"
   ]
  },
  {
   "cell_type": "code",
   "execution_count": 1,
   "metadata": {},
   "outputs": [],
   "source": [
    "from math import (exp, log)\n",
    "import numpy as np\n",
    "import msprime"
   ]
  },
  {
   "cell_type": "code",
   "execution_count": 2,
   "metadata": {},
   "outputs": [],
   "source": [
    "RHO_HUMAN = 1.6*10e-9\n",
    "MU_HUMAN = 1.25*10e-8\n",
    "RHO_LIMIT = (log(RHO_HUMAN)-100, log(RHO_HUMAN)+100)\n",
    "MU_LIMIT = (log(MU_HUMAN)-100, log(MU_HUMAN)+100)\n",
    "\n",
    "LENGTH_NORMALIZE_CONST = 4\n",
    "ZIPPED = False\n",
    "NUMBER_OF_EVENTS_LIMITS = (1, 20)\n",
    "MAX_T_LIMITS = (0.01, 30)\n",
    "LAMBDA_EXP = 1.0\n",
    "POPULATION_LIMITS = (250, 100000)\n",
    "POPULATION = 5000\n",
    "\n",
    "IS_SEMMETRIC = True\n",
    "\n",
    "N = 20\n",
    "\n",
    "RANDOM_SEED = 42\n",
    "np.random.seed(RANDOM_SEED)"
   ]
  },
  {
   "cell_type": "code",
   "execution_count": 3,
   "metadata": {},
   "outputs": [],
   "source": [
    "population_configurations = [\n",
    "    msprime.PopulationConfiguration(\n",
    "        sample_size=1, initial_size=100),\n",
    "    msprime.PopulationConfiguration(\n",
    "        sample_size=1, initial_size=200, growth_rate=-0.01),\n",
    "    msprime.PopulationConfiguration(\n",
    "        sample_size=1, initial_size=100),\n",
    "]\n",
    "# What's wrong with growth_rate? Why population does growth only if it's negative?"
   ]
  },
  {
   "cell_type": "code",
   "execution_count": 4,
   "metadata": {},
   "outputs": [],
   "source": [
    "def create_simple_N_populations(number_of_populations: int, is_equale = True, sample_size=1) -> list:\n",
    "    low, high = POPULATION_LIMITS\n",
    "    if is_equale:\n",
    "        pop_num = np.random.randint(low=low, high=high)\n",
    "        pop = [msprime.PopulationConfiguration(sample_size=sample_size,initial_size=pop_num) \n",
    "               for i in range(number_of_populations)]\n",
    "    else:\n",
    "        pop = [msprime.PopulationConfiguration(sample_size=sample_size,\n",
    "                                               initial_size=np.random.randint(low=low, high=high))\n",
    "              for i in range(number_of_populations)]\n",
    "    return pop"
   ]
  },
  {
   "cell_type": "code",
   "execution_count": 5,
   "metadata": {},
   "outputs": [],
   "source": [
    "def create_N_population(populations_parametrs: dict) -> list:\n",
    "    \"\"\"\n",
    "    population_parametrs: {population_name:int : [sample_size:int, initial_size:float, growth_rate:float]}\n",
    "    \"\"\"\n",
    "    populations_configuration = []\n",
    "    for population_name, parametrs in populations_parametrs.items():\n",
    "        if len(parametrs)  == 3:\n",
    "            sample_size, initial_size, growth_rate = parametrs\n",
    "        elif len(parametrs)  == 2:\n",
    "            sample_size, initial_size = parametrs\n",
    "        else:\n",
    "            raise f\"Number ov parametrs error: expected 2 or 3, but got {len(parametrs)}\"\n",
    "        populations_configuration.append(\n",
    "            msprime.PopulationConfiguration(\n",
    "                sample_size=sample_size, \n",
    "                initial_size=initial_size, \n",
    "                growth_rate=growth_rate)\n",
    "        )\n",
    "    return populations_configuration"
   ]
  },
  {
   "cell_type": "code",
   "execution_count": 6,
   "metadata": {},
   "outputs": [],
   "source": [
    "def create_random_migration_matrix(N: int, max_migration_rate, is_semmetric = IS_SEMMETRIC):\n",
    "    migration_matrix = np.zeros(shape=(N,N))\n",
    "    for i in range(N):\n",
    "        for j in range(i + 1,N):\n",
    "            migration_matrix[i][j] = np.random.random()*max_migration_rate\n",
    "            if is_semmetric:\n",
    "                migration_matrix[j][i] = migration_matrix[i][j]\n",
    "            else:\n",
    "                migration_matrix[j][i] = np.random.random()*max_migration_rate\n",
    "    return migration_matrix"
   ]
  },
  {
   "cell_type": "code",
   "execution_count": 7,
   "metadata": {},
   "outputs": [],
   "source": [
    "MAX_MIGRATION_RATE = 10\n",
    "IS_SEMMETRIC = False\n",
    "def create_MassMigration(time: float, number_of_populations: int, populations: list) -> list:\n",
    "    if number_of_populations == 1:\n",
    "        raise \"Only one population\"\n",
    "    source, destination = 0,0\n",
    "    while source == destination:\n",
    "        source, destination = np.random.randint(number_of_populations,size=2)\n",
    "    proportion = min(np.random.rand(), 1.0) # learn max of np.random.rand()\n",
    "    return [msprime.MassMigration(time=time,source=source,destination=destination, proportion=proportion)]\n",
    "\n",
    "def create_MigrationRateChange(time: float, number_of_populations: int, populations: list) -> list:\n",
    "    rate = np.random.random()*MAX_MIGRATION_RATE\n",
    "    i,j = np.random.randint(low=number_of_populations,size=(2))\n",
    "    while i == j:\n",
    "        i,j = np.random.randint(low=number_of_populations,size=(2))\n",
    "    migration = [msprime.MigrationRateChange(time=time,rate=rate,matrix_index=(i,j))]\n",
    "    if IS_SEMMETRIC:\n",
    "        migration.append(msprime.MigrationRateChange(time=time,rate=rate,matrix_index=(j,i)))\n",
    "    return migration\n",
    "    \n",
    "def create_PopulationParametersChange(time: float, number_of_populations: int, populations: list) -> list:\n",
    "    population_id = np.random.randint(number_of_populations)\n",
    "    size = int(np.random.beta(a=2, b=5) * populations[population_id])\n",
    "    while size <= 0:\n",
    "        size = int(np.random.beta(a=2, b=5) * populations[population_id])\n",
    "    return [msprime.PopulationParametersChange(time=time, initial_size=size, population_id=population_id)]\n",
    "\n",
    "events = {\n",
    "    \"MassMigration\": create_MassMigration,\n",
    "    \"MigrationRateChange\": create_MigrationRateChange,\n",
    "    \"PopulationParametersChange\": create_PopulationParametersChange,\n",
    "}\n",
    "\n",
    "events = [create_MassMigration,create_MigrationRateChange,create_PopulationParametersChange]\n",
    "\n",
    "def create_demographic_events(number_of_populations: int, populations: list) -> list:\n",
    "    \"\"\"\n",
    "    \"\"\"\n",
    "    low, high = NUMBER_OF_EVENTS_LIMITS\n",
    "    number_of_events = np.random.randint(low=low, high=high)\n",
    "    times = sorted(np.random.exponential(LAMBDA_EXP, size=number_of_events))\n",
    "    low, high = MAX_T_LIMITS\n",
    "    max_t = np.random.uniform(low=low, high=high)\n",
    "    \n",
    "    alpha = 1.0\n",
    "    beta = np.log(max_t + 1)/times[-1]\n",
    "\n",
    "    def to_exp_time(time: float) -> float:\n",
    "        # time -> exponentional time\n",
    "        return alpha*(np.exp(beta*time) - 1)\n",
    "    \n",
    "    exp_times = [to_exp_time(t) for t in times]\n",
    "    \n",
    "    demographic_events = []\n",
    "    for time in exp_times:\n",
    "        event = np.random.choice(events)(time, number_of_populations, populations)\n",
    "        for ev in event:\n",
    "            demographic_events.append(ev)\n",
    "    return demographic_events"
   ]
  },
  {
   "cell_type": "code",
   "execution_count": 8,
   "metadata": {},
   "outputs": [
    {
     "data": {
      "text/plain": [
       "array([2, 3])"
      ]
     },
     "execution_count": 8,
     "metadata": {},
     "output_type": "execute_result"
    }
   ],
   "source": [
    "np.random.randint(low=4,size=(2))"
   ]
  },
  {
   "cell_type": "code",
   "execution_count": 9,
   "metadata": {},
   "outputs": [
    {
     "data": {
      "text/plain": [
       "[{'type': 'mass_migration', 'time': 0.01687161377800961, 'source': 0, 'dest': 2, 'proportion': 0.6118528947223795},\n",
       " {'type': 'migration_rate_change', 'time': 0.04931128917693961, 'rate': 0.46665663213615427, 'matrix_index': (2, 1)},\n",
       " {'type': 'migration_rate_change', 'time': 0.14616603215110335, 'rate': 7.851759613930136, 'matrix_index': (2, 3)},\n",
       " {'type': 'population_parameters_change', 'time': 0.14619238103918386, 'growth_rate': None, 'initial_size': 1, 'population': 3},\n",
       " {'type': 'population_parameters_change', 'time': 0.17518463071828227, 'growth_rate': None, 'initial_size': 1, 'population': 1},\n",
       " {'type': 'population_parameters_change', 'time': 0.17701280666056074, 'growth_rate': None, 'initial_size': 3, 'population': 3},\n",
       " {'type': 'migration_rate_change', 'time': 0.21166959909811922, 'rate': 6.62522284353982, 'matrix_index': (1, 3)},\n",
       " {'type': 'migration_rate_change', 'time': 0.33883181466079626, 'rate': 0.31313292455558583, 'matrix_index': (3, 1)},\n",
       " {'type': 'migration_rate_change', 'time': 1.0841619810692955, 'rate': 8.948273504276488, 'matrix_index': (1, 2)},\n",
       " {'type': 'population_parameters_change', 'time': 1.0944804202084955, 'growth_rate': None, 'initial_size': 1, 'population': 3},\n",
       " {'type': 'mass_migration', 'time': 1.692343386185477, 'source': 1, 'dest': 2, 'proportion': 0.8287375091519293},\n",
       " {'type': 'migration_rate_change', 'time': 1.88401742079204, 'rate': 9.65255307264138, 'matrix_index': (0, 2)},\n",
       " {'type': 'mass_migration', 'time': 3.2080351016606032, 'source': 2, 'dest': 0, 'proportion': 0.7722447692966574},\n",
       " {'type': 'population_parameters_change', 'time': 4.042111685305639, 'growth_rate': None, 'initial_size': 4, 'population': 2},\n",
       " {'type': 'migration_rate_change', 'time': 15.747445384650813, 'rate': 3.5846572854427263, 'matrix_index': (0, 3)}]"
      ]
     },
     "execution_count": 9,
     "metadata": {},
     "output_type": "execute_result"
    }
   ],
   "source": [
    "create_demographic_events(4,[10,10,10,10])"
   ]
  },
  {
   "cell_type": "code",
   "execution_count": 10,
   "metadata": {},
   "outputs": [
    {
     "data": {
      "text/plain": [
       "[[0.0, 0.8631034258755935, 0.6232981268275579, 0.3308980248526492],\n",
       " [0.8631034258755935, 0.0, 0.06355835028602363, 0.3109823217156622],\n",
       " [0.6232981268275579, 0.06355835028602363, 0.0, 0.32518332202674705],\n",
       " [0.3308980248526492, 0.3109823217156622, 0.32518332202674705, 0.0]]"
      ]
     },
     "execution_count": 10,
     "metadata": {},
     "output_type": "execute_result"
    }
   ],
   "source": [
    "[list(i) for i in create_random_migration_matrix(4,1)]"
   ]
  },
  {
   "cell_type": "code",
   "execution_count": 11,
   "metadata": {},
   "outputs": [
    {
     "ename": "NameError",
     "evalue": "name 'NB' is not defined",
     "output_type": "error",
     "traceback": [
      "\u001b[0;31m---------------------------------------------------------------------------\u001b[0m",
      "\u001b[0;31mNameError\u001b[0m                                 Traceback (most recent call last)",
      "\u001b[0;32m<ipython-input-11-55d37a6476ad>\u001b[0m in \u001b[0;36m<module>\u001b[0;34m\u001b[0m\n\u001b[0;32m----> 1\u001b[0;31m \u001b[0mcreate_simple_N_populations\u001b[0m\u001b[0;34m(\u001b[0m\u001b[0mNB\u001b[0m\u001b[0;34m)\u001b[0m\u001b[0;34m\u001b[0m\u001b[0m\n\u001b[0m",
      "\u001b[0;31mNameError\u001b[0m: name 'NB' is not defined"
     ]
    }
   ],
   "source": [
    "create_simple_N_populations(NB)"
   ]
  },
  {
   "cell_type": "code",
   "execution_count": 12,
   "metadata": {},
   "outputs": [
    {
     "name": "stdout",
     "output_type": "stream",
     "text": [
      "Model =  hudson(reference_size=1)\n",
      "========================================\n",
      "Epoch: 0 -- 10.1350789903948 generations\n",
      "========================================\n",
      "     start     end      growth_rate |     0        1        2        3        4        5        6        7        8        9    \n",
      "   -------- --------       -------- | -------- -------- -------- -------- -------- -------- -------- -------- -------- -------- \n",
      "0 |9.66e+04 9.66e+04              0 |     0      0.591    0.275    0.561    0.383    0.972    0.849    0.722    0.236    0.256  \n",
      "1 |9.66e+04 9.66e+04              0 |   0.591      0     0.0404    0.711    0.111    0.439    0.202    0.896    0.475    0.563  \n",
      "2 |9.66e+04 9.66e+04              0 |   0.275   0.0404      0      0.696    0.139    0.604    0.54     0.203    0.943    0.599  \n",
      "3 |9.66e+04 9.66e+04              0 |   0.561    0.711    0.696      0      0.695    0.88     0.624    0.296    0.105    0.457  \n",
      "4 |9.66e+04 9.66e+04              0 |   0.383    0.111    0.139    0.695      0      0.218    0.417    0.883    0.324    0.122  \n",
      "5 |9.66e+04 9.66e+04              0 |   0.972    0.439    0.604    0.88     0.218      0      0.356    0.907    0.272    0.648  \n",
      "6 |9.66e+04 9.66e+04              0 |   0.849    0.202    0.54     0.624    0.417    0.356      0     0.00052   0.353    0.305  \n",
      "7 |9.66e+04 9.66e+04              0 |   0.722    0.896    0.203    0.296    0.883    0.907   0.00052     0      0.165    0.534  \n",
      "8 |9.66e+04 9.66e+04              0 |   0.236    0.475    0.943    0.105    0.324    0.272    0.353    0.165      0      0.485  \n",
      "9 |9.66e+04 9.66e+04              0 |   0.256    0.563    0.599    0.457    0.122    0.648    0.305    0.534    0.485      0    \n",
      "\n",
      "Events @ generation 10.1350789903948\n",
      "   - Population parameter change for 5: initial_size -> 4 \n",
      "==========================================\n",
      "Epoch: 10.1350789903948 -- inf generations\n",
      "==========================================\n",
      "     start     end      growth_rate |     0        1        2        3        4        5        6        7        8        9    \n",
      "   -------- --------       -------- | -------- -------- -------- -------- -------- -------- -------- -------- -------- -------- \n",
      "0 |9.66e+04 9.66e+04              0 |     0      0.591    0.275    0.561    0.383    0.972    0.849    0.722    0.236    0.256  \n",
      "1 |9.66e+04 9.66e+04              0 |   0.591      0     0.0404    0.711    0.111    0.439    0.202    0.896    0.475    0.563  \n",
      "2 |9.66e+04 9.66e+04              0 |   0.275   0.0404      0      0.696    0.139    0.604    0.54     0.203    0.943    0.599  \n",
      "3 |9.66e+04 9.66e+04              0 |   0.561    0.711    0.696      0      0.695    0.88     0.624    0.296    0.105    0.457  \n",
      "4 |9.66e+04 9.66e+04              0 |   0.383    0.111    0.139    0.695      0      0.218    0.417    0.883    0.324    0.122  \n",
      "5 |    4        4                 0 |   0.972    0.439    0.604    0.88     0.218      0      0.356    0.907    0.272    0.648  \n",
      "6 |9.66e+04 9.66e+04              0 |   0.849    0.202    0.54     0.624    0.417    0.356      0     0.00052   0.353    0.305  \n",
      "7 |9.66e+04 9.66e+04              0 |   0.722    0.896    0.203    0.296    0.883    0.907   0.00052     0      0.165    0.534  \n",
      "8 |9.66e+04 9.66e+04              0 |   0.236    0.475    0.943    0.105    0.324    0.272    0.353    0.165      0      0.485  \n",
      "9 |9.66e+04 9.66e+04              0 |   0.256    0.563    0.599    0.457    0.122    0.648    0.305    0.534    0.485      0    \n",
      "\n"
     ]
    }
   ],
   "source": [
    "NB = 10\n",
    "dd = msprime.DemographyDebugger(\n",
    "    population_configurations=create_simple_N_populations(NB),\n",
    "    migration_matrix=create_random_migration_matrix(NB,1),\n",
    "    demographic_events=create_demographic_events(NB,[10 for i in range(NB)])\n",
    ")\n",
    "dd.print_history()"
   ]
  },
  {
   "cell_type": "code",
   "execution_count": 43,
   "metadata": {},
   "outputs": [
    {
     "data": {
      "text/plain": [
       "[{'type': 'mass_migration', 'time': 0.03514325061615642, 'source': 0, 'dest': 1, 'proportion': 0.7896181427945539},\n",
       " {'type': 'mass_migration', 'time': 0.05616072165193242, 'source': 0, 'dest': 1, 'proportion': 0.9742482085344102},\n",
       " {'type': 'migration_rate_change', 'time': 0.06230201216744047, 'rate': 5.495288823237355, 'matrix_index': (1, 0)},\n",
       " {'type': 'mass_migration', 'time': 0.06843301296487625, 'source': 1, 'dest': 0, 'proportion': 0.10112267612279024},\n",
       " {'type': 'population_parameters_change', 'time': 0.24856982826748175, 'growth_rate': None, 'initial_size': 185, 'population': 1},\n",
       " {'type': 'mass_migration', 'time': 0.31711506408833134, 'source': 1, 'dest': 0, 'proportion': 0.5813054172267823},\n",
       " {'type': 'mass_migration', 'time': 0.3636972258143254, 'source': 0, 'dest': 1, 'proportion': 0.8127995672575026},\n",
       " {'type': 'population_parameters_change', 'time': 0.512782485733168, 'growth_rate': None, 'initial_size': 175, 'population': 0},\n",
       " {'type': 'population_parameters_change', 'time': 0.5324033830686241, 'growth_rate': None, 'initial_size': 219, 'population': 1},\n",
       " {'type': 'mass_migration', 'time': 0.539156745394564, 'source': 1, 'dest': 0, 'proportion': 0.08289132169335423},\n",
       " {'type': 'mass_migration', 'time': 0.6164516469326857, 'source': 1, 'dest': 0, 'proportion': 0.9632225394406113},\n",
       " {'type': 'mass_migration', 'time': 0.6601986279630374, 'source': 1, 'dest': 0, 'proportion': 0.04315991195057611},\n",
       " {'type': 'mass_migration', 'time': 0.7853253700728426, 'source': 1, 'dest': 0, 'proportion': 0.2529901679892411},\n",
       " {'type': 'population_parameters_change', 'time': 1.0332931626928525, 'growth_rate': None, 'initial_size': 241, 'population': 1},\n",
       " {'type': 'population_parameters_change', 'time': 2.2550484154110166, 'growth_rate': None, 'initial_size': 298, 'population': 1},\n",
       " {'type': 'migration_rate_change', 'time': 6.201188887989875, 'rate': 4.55656752785713, 'matrix_index': (1, 0)},\n",
       " {'type': 'migration_rate_change', 'time': 6.389709571776625, 'rate': 1.881211597237613, 'matrix_index': (1, 0)}]"
      ]
     },
     "execution_count": 43,
     "metadata": {},
     "output_type": "execute_result"
    }
   ],
   "source": [
    "dem = create_demographic_events(2,[1000,1000])\n",
    "dem"
   ]
  },
  {
   "cell_type": "code",
   "execution_count": 44,
   "metadata": {},
   "outputs": [],
   "source": [
    "NB = 2\n",
    "L = 100\n",
    "generator = msprime.simulate(\n",
    "        #sample_size=2,\n",
    "        recombination_rate=RHO_HUMAN,\n",
    "        mutation_rate=MU_HUMAN,\n",
    "        random_seed=42,\n",
    "        model=\"hudson\",\n",
    "        length=L,\n",
    "        num_replicates=1,\n",
    "        population_configurations=create_simple_N_populations(2),\n",
    "        migration_matrix=create_random_migration_matrix(2,0.001),\n",
    "        demographic_events=dem\n",
    ")"
   ]
  },
  {
   "cell_type": "code",
   "execution_count": 45,
   "metadata": {},
   "outputs": [
    {
     "name": "stderr",
     "output_type": "stream",
     "text": [
      "/opt/anaconda3/envs/msprime-env/lib/python3.7/site-packages/ipykernel_launcher.py:45: RuntimeWarning: divide by zero encountered in double_scalars\n"
     ]
    }
   ],
   "source": [
    "try:\n",
    "    replica = next(generator)\n",
    "except StopIteration:\n",
    "    raise StopIteration\n",
    "\n",
    "# TODO Защита от записи в один и тот же участок генома \n",
    "haplotype = [0] * L\n",
    "\n",
    "for mutation in replica.mutations():\n",
    "    point = round(mutation.position)\n",
    "    if point < L:\n",
    "        haplotype[point] = 1\n",
    "    else:\n",
    "        haplotype[point - 1] = 1\n",
    "\n",
    "recombination_points = []\n",
    "coal_times = []\n",
    "for tree in replica.trees():\n",
    "    point = round(tree.get_interval()[0])\n",
    "    if point not in recombination_points:\n",
    "        recombination_points.append(point)\n",
    "        coal_times.append(tree.total_branch_length /\n",
    "                          LENGTH_NORMALIZE_CONST)\n",
    "\n",
    "# haplotype = \"\".join([str(h) for h in haplotype])\n",
    "times = [.0] * len(haplotype)\n",
    "j_point = 0\n",
    "j_time = -1\n",
    "time = None\n",
    "for i, _ in enumerate(times):\n",
    "    if j_point < len(recombination_points):\n",
    "        if i == recombination_points[j_point]:\n",
    "            j_point += 1\n",
    "            j_time += 1\n",
    "            time = coal_times[j_time]\n",
    "    times[i] = time\n",
    "\n",
    "min_t = min(times)\n",
    "max_t = max(times)\n",
    "\n",
    "a = (-np.log(max_t) + N*np.log(min_t))/(N-1)\n",
    "B = (-np.log(min_t) + np.log(max_t))/(N-1)\n",
    "\n",
    "def to_T(time):\n",
    "    return round((np.log(time)-a)/B)\n",
    "\n",
    "step_of_discratization = max(times)/N\n",
    "def discretization(t):\n",
    "    return min(int(t/step_of_discratization) + 1, N)\n",
    "\n",
    "#d_times = [discretization(t) for t in times]\n",
    "d_times = [to_T(t) for t in times]"
   ]
  },
  {
   "cell_type": "code",
   "execution_count": 46,
   "metadata": {},
   "outputs": [
    {
     "data": {
      "text/plain": [
       "array([0, 0, 0, 0, 0, 0, 0, 0, 0, 0, 0, 0, 0, 0, 0, 0, 0, 0, 0, 0, 0, 0,\n",
       "       0, 0, 0, 0, 0, 0, 0, 0, 0, 0, 0, 0, 0, 0, 0, 0, 0, 0, 0, 0, 0, 0,\n",
       "       0, 0, 0, 0, 0, 0, 0, 0, 0, 0, 0, 0, 0, 0, 0, 0, 0, 0, 0, 0, 0, 0,\n",
       "       0, 0, 0, 0, 0, 0, 0, 0, 0, 0, 0, 0, 0, 0, 0, 0, 0, 0, 0, 0, 0, 0,\n",
       "       0, 0, 0, 0, 0, 0, 0, 0, 0, 0, 0, 0])"
      ]
     },
     "execution_count": 46,
     "metadata": {},
     "output_type": "execute_result"
    }
   ],
   "source": [
    "np.array(haplotype)"
   ]
  },
  {
   "cell_type": "code",
   "execution_count": 47,
   "metadata": {},
   "outputs": [
    {
     "data": {
      "text/plain": [
       "[inf,\n",
       " inf,\n",
       " inf,\n",
       " inf,\n",
       " inf,\n",
       " inf,\n",
       " inf,\n",
       " inf,\n",
       " inf,\n",
       " inf,\n",
       " inf,\n",
       " inf,\n",
       " inf,\n",
       " inf,\n",
       " inf,\n",
       " inf,\n",
       " inf,\n",
       " inf,\n",
       " inf,\n",
       " inf,\n",
       " inf,\n",
       " inf,\n",
       " inf,\n",
       " inf,\n",
       " inf,\n",
       " inf,\n",
       " inf,\n",
       " inf,\n",
       " inf,\n",
       " inf,\n",
       " inf,\n",
       " inf,\n",
       " inf,\n",
       " inf,\n",
       " inf,\n",
       " inf,\n",
       " inf,\n",
       " inf,\n",
       " inf,\n",
       " inf,\n",
       " inf,\n",
       " inf,\n",
       " inf,\n",
       " inf,\n",
       " inf,\n",
       " inf,\n",
       " inf,\n",
       " inf,\n",
       " inf,\n",
       " inf,\n",
       " inf,\n",
       " inf,\n",
       " inf,\n",
       " inf,\n",
       " inf,\n",
       " inf,\n",
       " inf,\n",
       " inf,\n",
       " inf,\n",
       " inf,\n",
       " inf,\n",
       " inf,\n",
       " inf,\n",
       " inf,\n",
       " inf,\n",
       " inf,\n",
       " inf,\n",
       " inf,\n",
       " inf,\n",
       " inf,\n",
       " inf,\n",
       " inf,\n",
       " inf,\n",
       " inf,\n",
       " inf,\n",
       " inf,\n",
       " inf,\n",
       " inf,\n",
       " inf,\n",
       " inf,\n",
       " inf,\n",
       " inf,\n",
       " inf,\n",
       " inf,\n",
       " inf,\n",
       " inf,\n",
       " inf,\n",
       " inf,\n",
       " inf,\n",
       " inf,\n",
       " inf,\n",
       " inf,\n",
       " inf,\n",
       " inf,\n",
       " inf,\n",
       " inf,\n",
       " inf,\n",
       " inf,\n",
       " inf,\n",
       " inf]"
      ]
     },
     "execution_count": 47,
     "metadata": {},
     "output_type": "execute_result"
    }
   ],
   "source": [
    "d_times"
   ]
  },
  {
   "cell_type": "code",
   "execution_count": null,
   "metadata": {},
   "outputs": [],
   "source": [
    "tr = []\n",
    "for i in generator:\n",
    "    tr.append(i)"
   ]
  },
  {
   "cell_type": "code",
   "execution_count": null,
   "metadata": {},
   "outputs": [],
   "source": [
    "for variant in tr[0].variants():\n",
    "    print(\n",
    "        variant.site.id, variant.site.position,\n",
    "        variant.alleles, variant.genotypes, sep=\"\\t\")"
   ]
  },
  {
   "cell_type": "code",
   "execution_count": null,
   "metadata": {},
   "outputs": [],
   "source": [
    "i,j = np.random.randint(low=2,size=(2))"
   ]
  },
  {
   "cell_type": "code",
   "execution_count": null,
   "metadata": {},
   "outputs": [],
   "source": [
    "i,j"
   ]
  },
  {
   "cell_type": "code",
   "execution_count": null,
   "metadata": {},
   "outputs": [],
   "source": [
    "a = []\n",
    "b = [1,2]\n",
    "a.append(*b)"
   ]
  },
  {
   "cell_type": "code",
   "execution_count": 76,
   "metadata": {},
   "outputs": [],
   "source": [
    "def give_two_populations(\n",
    "    initial_size_1: int, initial_size_2: int,\n",
    "    sample_size_1 = 1, sample_size_2 = 1,\n",
    "    growth_rate_1 = None, growth_rate_2=None):\n",
    "    \n",
    "    return [\n",
    "    msprime.PopulationConfiguration(\n",
    "        sample_size=sample_size_1, \n",
    "        initial_size=initial_size_1,\n",
    "        growth_rate=growth_rate_1\n",
    "    ),\n",
    "    msprime.PopulationConfiguration(\n",
    "        sample_size=sample_size_2, \n",
    "        initial_size=initial_size_2,\n",
    "        growth_rate=growth_rate_2\n",
    "    ),\n",
    "    ]"
   ]
  },
  {
   "cell_type": "code",
   "execution_count": 78,
   "metadata": {},
   "outputs": [],
   "source": [
    "def give_initial_migration_matrix(a_b: float, b_a=None):\n",
    "    if b_a is None:\n",
    "        b_a = a_b\n",
    "    return [[0, a_b],\n",
    "           [b_a, 0]]"
   ]
  },
  {
   "cell_type": "code",
   "execution_count": 81,
   "metadata": {},
   "outputs": [],
   "source": [
    "def give_mass_migration(time, source, destination, proportion):\n",
    "    return msprime.MassMigration(\n",
    "            time=time, source=source, destination=destination, proportion=proportion)\n",
    "\n",
    "def give_migration_change_rate(time, rate, index=None):\n",
    "    return msprime.MigrationRateChange(time=time, rete=rate, matrix_index=index)\n",
    "\n",
    "def give_population_parametrs_change(time, initial_size=None,growth_rate=None,population_id=None):\n",
    "    return  msprime.PopulationParametersChange(\n",
    "        time=time, initial_size=initial_size, \n",
    "        growth_rate=growth_rate, population_id=population_id)"
   ]
  },
  {
   "cell_type": "code",
   "execution_count": 77,
   "metadata": {},
   "outputs": [
    {
     "data": {
      "text/plain": [
       "[<msprime.simulations.PopulationConfiguration at 0x7fe84a2d6eb8>,\n",
       " <msprime.simulations.PopulationConfiguration at 0x7fe84a2d6940>]"
      ]
     },
     "execution_count": 77,
     "metadata": {},
     "output_type": "execute_result"
    }
   ],
   "source": [
    "give_two_populations(100, None)"
   ]
  },
  {
   "cell_type": "code",
   "execution_count": 80,
   "metadata": {},
   "outputs": [
    {
     "data": {
      "text/plain": [
       "[[0, 10], [9, 0]]"
      ]
     },
     "execution_count": 80,
     "metadata": {},
     "output_type": "execute_result"
    }
   ],
   "source": [
    "give_initial_migration_matrix(10,9)"
   ]
  },
  {
   "cell_type": "code",
   "execution_count": null,
   "metadata": {},
   "outputs": [],
   "source": []
  }
 ],
 "metadata": {
  "kernelspec": {
   "display_name": "Python 3.7.0 64-bit ('msprime-env': conda)",
   "language": "python",
   "name": "python37064bitmsprimeenvconda368cc9cf1606405991e90790f6340b23"
  },
  "language_info": {
   "codemirror_mode": {
    "name": "ipython",
    "version": 3
   },
   "file_extension": ".py",
   "mimetype": "text/x-python",
   "name": "python",
   "nbconvert_exporter": "python",
   "pygments_lexer": "ipython3",
   "version": "3.7.0"
  }
 },
 "nbformat": 4,
 "nbformat_minor": 2
}
