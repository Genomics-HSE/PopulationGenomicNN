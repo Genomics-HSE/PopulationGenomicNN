{
 "cells": [
  {
   "cell_type": "markdown",
   "metadata": {},
   "source": [
    "- Генератор событий +  \n",
    "- Дискритезатиция времени +  \n",
    "- Оформить по красоте в класс"
   ]
  },
  {
   "cell_type": "code",
   "execution_count": 1,
   "metadata": {},
   "outputs": [],
   "source": [
    "import msprime"
   ]
  },
  {
   "cell_type": "code",
   "execution_count": 2,
   "metadata": {},
   "outputs": [],
   "source": [
    "from math import (exp, log)\n",
    "import numpy as np\n",
    "\n",
    "RHO_HUMAN = 1.6*10e-9\n",
    "MU_HUMAN = 1.25*10e-8\n",
    "RHO_LIMIT = (log(RHO_HUMAN)-100, log(RHO_HUMAN)+100)\n",
    "MU_LIMIT = (log(MU_HUMAN)-100, log(MU_HUMAN)+100)\n",
    "\n",
    "LENGTH_NORMALIZE_CONST = 4\n",
    "ZIPPED = False\n",
    "NUMBER_OF_EVENTS_LIMITS = (1, 20)\n",
    "MAX_T_LIMITS = (0.01, 30)\n",
    "LAMBDA_EXP = 1.0\n",
    "POPULATION_LIMITS = (250, 100000)\n",
    "POPULATION = 5000\n",
    "\n",
    "N = 20\n",
    "\n",
    "RANDOM_SEED = 42\n",
    "np.random.seed(RANDOM_SEED)\n",
    "\n",
    "\n",
    "def generate_demographic_events(popilation: int = POPULATION) -> list:\n",
    "    \"\"\"\n",
    "    Generate demographic events.\n",
    "    1) We generate number of events\n",
    "    2) We choise time when events happens\n",
    "    3) We choise how population has changed\n",
    "\n",
    "    For more information learn msprime documentation\n",
    "\n",
    "\n",
    "    Must return list of msprime.PopulationParametersChange objects\n",
    "    https://msprime.readthedocs.io/en/stable/api.html#demographic-events\n",
    "    \"\"\"\n",
    "    number_of_events = np.random.randint(\n",
    "        low=NUMBER_OF_EVENTS_LIMITS[0], high=NUMBER_OF_EVENTS_LIMITS[1])\n",
    "    max_t = np.random.uniform(low=MAX_T_LIMITS[0], high=MAX_T_LIMITS[1])\n",
    "\n",
    "    times = sorted(np.random.exponential(LAMBDA_EXP, size=number_of_events))\n",
    "\n",
    "    alpha = 1.0\n",
    "    beta = np.log(max_t + 1)/times[-1]\n",
    "\n",
    "    def to_exp_time(time: float) -> float:\n",
    "        # time -> exponentional time\n",
    "        return alpha*(np.exp(beta*time) - 1)\n",
    "\n",
    "    exp_times = [to_exp_time(t) for t in times]\n",
    "    # population_sizes = np.random.randint(\n",
    "    #    low=POPULATION_LIMITS[0], high=POPULATION_LIMITS[1], size=number_of_events)\n",
    "\n",
    "    population_sizes = np.random.beta(\n",
    "        a=2, b=5, size=number_of_events)*popilation\n",
    "\n",
    "    # init_population = np.random.randint(\n",
    "    #    low=POPULATION_LIMITS[0], high=POPULATION_LIMITS[1])\n",
    "\n",
    "    init_population = int(np.random.beta(a=2, b=5)*popilation)\n",
    "\n",
    "    events = [msprime.PopulationParametersChange(\n",
    "        0, initial_size=init_population, growth_rate=0)]\n",
    "\n",
    "    for t, s in zip(exp_times, population_sizes):\n",
    "        events.append(\n",
    "            msprime.PopulationParametersChange(t, int(s), growth_rate=0)\n",
    "        )\n",
    "    return events\n",
    "\n",
    "\n",
    "def give_rho() -> float:\n",
    "    return exp(np.random.uniform(RHO_LIMIT[0], RHO_LIMIT[1]))\n",
    "\n",
    "\n",
    "def give_mu() -> float:\n",
    "    return exp(np.random.uniform(MU_LIMIT[0], MU_LIMIT[1]))"
   ]
  },
  {
   "cell_type": "code",
   "execution_count": 3,
   "metadata": {},
   "outputs": [],
   "source": [
    "class arg:\n",
    "    Ne = 1.0\n",
    "    rho = 1.6*10e-9\n",
    "    mu = 1.25*10e-8\n",
    "    num_repl = 10 #int(1e5)\n",
    "    l = 100000 #int(3e3)\n",
    "    ratio_train_examples = 0.9\n",
    "    random_seed = 42\n",
    "    model = \"hudson\"\n",
    "    sample_size = 2\n",
    "    demographic_events = generate_demographic_events()"
   ]
  },
  {
   "cell_type": "code",
   "execution_count": 4,
   "metadata": {},
   "outputs": [],
   "source": [
    "class Generator:\n",
    "    def __init__(self, arg):\n",
    "        self.arg = arg\n",
    "        self.data_generator = msprime.simulate(\n",
    "            sample_size=arg.sample_size,\n",
    "            recombination_rate=arg.rho,\n",
    "            mutation_rate=arg.mu,\n",
    "            random_seed=arg.random_seed,\n",
    "            model=arg.model,\n",
    "            length=arg.l,\n",
    "            num_replicates=arg.num_repl,\n",
    "            demographic_events=arg.demographic_events\n",
    "        )\n",
    "        \n",
    "        \n",
    "    def __iter__(self):\n",
    "        return self\n",
    "    def __next__(self):\n",
    "        try:\n",
    "            replica = next(self.data_generator)\n",
    "        except StopIteration:\n",
    "            raise StopIteration\n",
    "            \n",
    "        haplotype = [0] * self.arg.l\n",
    "        recombination_points = [0] * self.arg.l\n",
    "        coal_times = [0] * self.arg.l\n",
    "        \n",
    "        # get mutations \n",
    "        for mutation in replica.mutations():\n",
    "            point = round(mutation.position)\n",
    "            if point < self.arg.l:\n",
    "                haplotype[point] = 1\n",
    "            else:\n",
    "                haplotype[point - 1] = 1\n",
    "                \n",
    "        # get coal times and recombination points\n",
    "        \n",
    "        for tree in replica.trees():\n",
    "            l,r = tree.get_interval()\n",
    "            l,r = int(l), int(r)\n",
    "            recombination_points[r - 1] = 1\n",
    "            coal_times[l:r] = [tree.total_branch_length] * (r-l)\n",
    "            \n",
    "        # discrete times\n",
    "        \n",
    "        min_t, max_t = min(coal_times), max(coal_times)\n",
    "\n",
    "        if max_t == min_t:\n",
    "            min_t = 0.0000001 # Почти ноль\n",
    "\n",
    "        a = (-np.log(max_t) + N*np.log(min_t))/(N-1)\n",
    "        B = (-np.log(min_t) + np.log(max_t))/(N-1)\n",
    "\n",
    "        def to_T(time):\n",
    "            return round((np.log(time)-a)/B)\n",
    "        \n",
    "        d_times = [to_T(t) for t in coal_times]\n",
    "        \n",
    "        return haplotype, d_times, recombination_points"
   ]
  },
  {
   "cell_type": "code",
   "execution_count": 5,
   "metadata": {},
   "outputs": [],
   "source": [
    "# To use\n",
    "generator = Generator(arg)\n",
    "i = next(generator)"
   ]
  },
  {
   "cell_type": "code",
   "execution_count": 12,
   "metadata": {},
   "outputs": [],
   "source": [
    "import matplotlib.pyplot as plt"
   ]
  },
  {
   "cell_type": "code",
   "execution_count": 28,
   "metadata": {},
   "outputs": [
    {
     "data": {
      "text/plain": [
       "Text(0.5, 0, 'genome')"
      ]
     },
     "execution_count": 28,
     "metadata": {},
     "output_type": "execute_result"
    },
    {
     "data": {
      "image/png": "[encoded data removed]",
      "text/plain": [
       "<Figure size 432x288 with 1 Axes>"
      ]
     },
     "metadata": {
      "needs_background": "light"
     },
     "output_type": "display_data"
    }
   ],
   "source": [
    "plt.scatter([x for x in range(len(i[0][:1000]))], i[0][:1000])\n",
    "plt.ylabel('mutation')\n",
    "plt.xlabel('genome')"
   ]
  },
  {
   "cell_type": "code",
   "execution_count": 30,
   "metadata": {},
   "outputs": [
    {
     "data": {
      "text/plain": [
       "Text(0.5, 0, 'genome')"
      ]
     },
     "execution_count": 30,
     "metadata": {},
     "output_type": "execute_result"
    },
    {
     "data": {
      "image/png": "[encoded data removed]",
      "text/plain": [
       "<Figure size 432x288 with 1 Axes>"
      ]
     },
     "metadata": {
      "needs_background": "light"
     },
     "output_type": "display_data"
    }
   ],
   "source": [
    "plt.plot([x for x in range(len(i[1]))], i[1])\n",
    "plt.ylabel('coal time')\n",
    "plt.xlabel('genome')"
   ]
  },
  {
   "cell_type": "code",
   "execution_count": null,
   "metadata": {},
   "outputs": [],
   "source": []
  }
 ],
 "metadata": {
  "kernelspec": {
   "display_name": "Python 3.7.0 64-bit ('msprime-env': conda)",
   "language": "python",
   "name": "python37064bitmsprimeenvconda368cc9cf1606405991e90790f6340b23"
  },
  "language_info": {
   "codemirror_mode": {
    "name": "ipython",
    "version": 3
   },
   "file_extension": ".py",
   "mimetype": "text/x-python",
   "name": "python",
   "nbconvert_exporter": "python",
   "pygments_lexer": "ipython3",
   "version": "3.7.0"
  }
 },
 "nbformat": 4,
 "nbformat_minor": 2
}
