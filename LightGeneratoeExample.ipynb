{
 "cells": [
  {
   "cell_type": "code",
   "execution_count": 7,
   "metadata": {},
   "outputs": [
    {
     "data": {
      "text/plain": [
       "<generator object _replicate_generator at 0x148257900>"
      ]
     },
     "execution_count": 7,
     "metadata": {},
     "output_type": "execute_result"
    }
   ],
   "source": [
    "import utilities.light_generator as ulg\n",
    "import msprime\n",
    "\n",
    "\n",
    "MU_HUMAN = ulg.give_mu()*100\n",
    "RHO_HUMAN = MU_HUMAN * ulg.give_random_coeff()\n",
    "POPULATION = 500\n",
    "num_replicates = 10\n",
    "lengt = int(3e7)\n",
    "is_experement = True\n",
    "\n",
    "dg = ulg.DataGenerator(\n",
    "    recombination_rate=RHO_HUMAN,\n",
    "    mutation_rate=MU_HUMAN,\n",
    "    sample_size=100,\n",
    "    demographic_events=ulg.generate_demographic_events(POPULATION),\n",
    "    num_replicates=num_replicates,\n",
    "    lengt=lengt,\n",
    "    random_seed=42,\n",
    "    is_experement=is_experement)\n",
    "dg.run_simulation()"
   ]
  },
  {
   "cell_type": "code",
   "execution_count": 8,
   "metadata": {},
   "outputs": [
    {
     "name": "stdout",
     "output_type": "stream",
     "text": [
      "CPU times: user 2min 40s, sys: 460 ms, total: 2min 41s\n",
      "Wall time: 2min 41s\n"
     ]
    }
   ],
   "source": [
    "%%time\n",
    "data = next(dg)"
   ]
  },
  {
   "cell_type": "code",
   "execution_count": 9,
   "metadata": {},
   "outputs": [],
   "source": [
    "x, y, time = data"
   ]
  },
  {
   "cell_type": "code",
   "execution_count": 10,
   "metadata": {},
   "outputs": [],
   "source": [
    "with open(\"42.txt\",\"w+\") as file:\n",
    "    file.write(\"\".join(map(str, x)))"
   ]
  },
  {
   "cell_type": "code",
   "execution_count": 13,
   "metadata": {},
   "outputs": [
    {
     "data": {
      "text/plain": [
       "'1 2 3'"
      ]
     },
     "execution_count": 13,
     "metadata": {},
     "output_type": "execute_result"
    }
   ],
   "source": [
    "\" \".join(map(str, [1,2,3]))"
   ]
  },
  {
   "cell_type": "code",
   "execution_count": 11,
   "metadata": {},
   "outputs": [
    {
     "ename": "SyntaxError",
     "evalue": "unexpected EOF while parsing (<ipython-input-11-ed21879b384f>, line 22)",
     "output_type": "error",
     "traceback": [
      "\u001b[0;36m  File \u001b[0;32m\"<ipython-input-11-ed21879b384f>\"\u001b[0;36m, line \u001b[0;32m22\u001b[0m\n\u001b[0;31m    with open(f\"x/{i}.txt\",\"w+\") as file:\u001b[0m\n\u001b[0m                                         ^\u001b[0m\n\u001b[0;31mSyntaxError\u001b[0m\u001b[0;31m:\u001b[0m unexpected EOF while parsing\n"
     ]
    }
   ],
   "source": [
    "import utilities.light_generator as ulg\n",
    "import msprime\n",
    "\n",
    "POPULATION = 500\n",
    "num_replicates = 10\n",
    "lengt = int(3e7)\n",
    "is_experement = True\n",
    "i = 0\n",
    "\n",
    "for seed in range(11,1):\n",
    "    MU_HUMAN = ulg.give_mu()\n",
    "    RHO_HUMAN = ulg.give_mu() * ulg.give_random_coeff()\n",
    "    \n",
    "    dg = ulg.DataGenerator(\n",
    "    recombination_rate=RHO_HUMAN,\n",
    "    mutation_rate=MU_HUMAN,\n",
    "    sample_size=100,\n",
    "    demographic_events=ulg.generate_demographic_events(POPULATION),\n",
    "    num_replicates=num_replicates,\n",
    "    lengt=lengt,\n",
    "    random_seed=42,\n",
    "    is_experement=is_experement)\n",
    "    \n",
    "    for x, y, times in dg:\n",
    "        with open(f\"x/{i}.txt\",\"w+\") as file:\n",
    "            file.write(\"\".join(map(str, x)))\n",
    "        with open(f\"y/{i}.txt\",\"w+\") as file:\n",
    "            file.write(\"\".join(map(str, y)))\n",
    "        with open(f\"times/{i}.txt\",\"w+\") as file:\n",
    "            file.write(\"\".join(map(str, times)))"
   ]
  },
  {
   "cell_type": "code",
   "execution_count": null,
   "metadata": {},
   "outputs": [],
   "source": []
  }
 ],
 "metadata": {
  "kernelspec": {
   "display_name": "Python 3",
   "language": "python",
   "name": "python3"
  },
  "language_info": {
   "codemirror_mode": {
    "name": "ipython",
    "version": 3
   },
   "file_extension": ".py",
   "mimetype": "text/x-python",
   "name": "python",
   "nbconvert_exporter": "python",
   "pygments_lexer": "ipython3",
   "version": "3.8.5"
  }
 },
 "nbformat": 4,
 "nbformat_minor": 4
}
