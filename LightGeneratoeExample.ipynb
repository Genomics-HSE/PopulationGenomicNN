{
 "cells": [
  {
   "cell_type": "code",
   "execution_count": 2,
   "metadata": {},
   "outputs": [
    {
     "data": {
      "text/plain": [
       "<generator object _replicate_generator at 0x13ff82f90>"
      ]
     },
     "execution_count": 2,
     "metadata": {},
     "output_type": "execute_result"
    }
   ],
   "source": [
    "import utilities.light_generator as ulg\n",
    "import msprime\n",
    "\n",
    "\n",
    "MU_HUMAN = ulg.give_mu()\n",
    "RHO_HUMAN = ulg.give_mu() * ulg.give_random_coeff()\n",
    "POPULATION = 100\n",
    "num_replicates = 1\n",
    "lengt = int(3e9)\n",
    "is_experement = True\n",
    "\n",
    "events = [\n",
    "    msprime.PopulationParametersChange(0, initial_size=POPULATION, growth_rate=0),\n",
    "    msprime.PopulationParametersChange(10, 80),\n",
    "    msprime.PopulationParametersChange(50, 120),\n",
    "    msprime.PopulationParametersChange(100, 1),\n",
    "    #msprime.PopulationParametersChange(0.1, 4000, growth_rate=0),\n",
    "    #msprime.PopulationParametersChange(1, 6000, growth_rate=0)\n",
    "]\n",
    "\n",
    "ev = demographic_events=ulg.generate_demographic_events(POPULATION)\n",
    "\n",
    "dg = ulg.DataGenerator(\n",
    "    recombination_rate=RHO_HUMAN,\n",
    "    mutation_rate=MU_HUMAN,\n",
    "    sample_size=100,\n",
    "    #demographic_events=None,\n",
    "    #demographic_events=events,\n",
    "    demographic_events=ulg.generate_demographic_events(POPULATION),\n",
    "    num_replicates=num_replicates,\n",
    "    lengt=lengt,\n",
    "    random_seed=42,\n",
    "    is_experement=is_experement)\n",
    "dg.run_simulation()"
   ]
  },
  {
   "cell_type": "code",
   "execution_count": 2,
   "metadata": {},
   "outputs": [],
   "source": [
    "import numpy as np"
   ]
  },
  {
   "cell_type": "code",
   "execution_count": 3,
   "metadata": {},
   "outputs": [],
   "source": [
    "def give_random_coeff(mean=.128, var=.05):\n",
    "    return np.random.normal(.128,.005)"
   ]
  },
  {
   "cell_type": "code",
   "execution_count": 4,
   "metadata": {},
   "outputs": [
    {
     "data": {
      "text/plain": [
       "7.81824851441265e-07"
      ]
     },
     "execution_count": 4,
     "metadata": {},
     "output_type": "execute_result"
    }
   ],
   "source": [
    "ulg.give_mu()"
   ]
  },
  {
   "cell_type": "code",
   "execution_count": 8,
   "metadata": {},
   "outputs": [
    {
     "data": {
      "text/plain": [
       "(-117.95067711470662, 82.04932288529338)"
      ]
     },
     "execution_count": 8,
     "metadata": {},
     "output_type": "execute_result"
    }
   ],
   "source": [
    "ulg.RHO_LIMIT"
   ]
  },
  {
   "cell_type": "code",
   "execution_count": 64,
   "metadata": {},
   "outputs": [
    {
     "data": {
      "text/plain": [
       "0.128"
      ]
     },
     "execution_count": 64,
     "metadata": {},
     "output_type": "execute_result"
    }
   ],
   "source": [
    "RHO_HUMAN/MU_HUMAN"
   ]
  },
  {
   "cell_type": "code",
   "execution_count": 5,
   "metadata": {},
   "outputs": [
    {
     "name": "stdout",
     "output_type": "stream",
     "text": [
      "Model =  hudson(reference_size=1)\n",
      "Events @ generation 0\n",
      "   - Population parameter change for -1: initial_size -> 14 growth_rate -> 0 \n",
      "===========================\n",
      "Epoch: 0 -- 0.0 generations\n",
      "===========================\n",
      "     start     end      growth_rate |     0    \n",
      "   -------- --------       -------- | -------- \n",
      "0 |    1        1                 0 |     0    \n",
      "\n",
      "==============================================\n",
      "Epoch: 0.0 -- 0.012078290427782523 generations\n",
      "==============================================\n",
      "     start     end      growth_rate |     0    \n",
      "   -------- --------       -------- | -------- \n",
      "0 |   14       14                 0 |     0    \n",
      "\n",
      "Events @ generation 0.012078290427782523\n",
      "   - Population parameter change for -1: initial_size -> 30 growth_rate -> 0 \n",
      "===============================================================\n",
      "Epoch: 0.012078290427782523 -- 0.013433172995274356 generations\n",
      "===============================================================\n",
      "     start     end      growth_rate |     0    \n",
      "   -------- --------       -------- | -------- \n",
      "0 |   30       30                 0 |     0    \n",
      "\n",
      "Events @ generation 0.013433172995274356\n",
      "   - Population parameter change for -1: initial_size -> 17 growth_rate -> 0 \n",
      "==============================================================\n",
      "Epoch: 0.013433172995274356 -- 0.16526486507700566 generations\n",
      "==============================================================\n",
      "     start     end      growth_rate |     0    \n",
      "   -------- --------       -------- | -------- \n",
      "0 |   17       17                 0 |     0    \n",
      "\n",
      "Events @ generation 0.16526486507700566\n",
      "   - Population parameter change for -1: initial_size -> 48 growth_rate -> 0 \n",
      "=============================================================\n",
      "Epoch: 0.16526486507700566 -- 0.20648187458114986 generations\n",
      "=============================================================\n",
      "     start     end      growth_rate |     0    \n",
      "   -------- --------       -------- | -------- \n",
      "0 |   48       48                 0 |     0    \n",
      "\n",
      "Events @ generation 0.20648187458114986\n",
      "   - Population parameter change for -1: initial_size -> 32 growth_rate -> 0 \n",
      "=============================================================\n",
      "Epoch: 0.20648187458114986 -- 0.31448968839724967 generations\n",
      "=============================================================\n",
      "     start     end      growth_rate |     0    \n",
      "   -------- --------       -------- | -------- \n",
      "0 |   32       32                 0 |     0    \n",
      "\n",
      "Events @ generation 0.31448968839724967\n",
      "   - Population parameter change for -1: initial_size -> 15 growth_rate -> 0 \n",
      "============================================================\n",
      "Epoch: 0.31448968839724967 -- 0.3419881599772281 generations\n",
      "============================================================\n",
      "     start     end      growth_rate |     0    \n",
      "   -------- --------       -------- | -------- \n",
      "0 |   15       15                 0 |     0    \n",
      "\n",
      "Events @ generation 0.3419881599772281\n",
      "   - Population parameter change for -1: initial_size -> 5 growth_rate -> 0 \n",
      "============================================================\n",
      "Epoch: 0.3419881599772281 -- 0.34648402372748266 generations\n",
      "============================================================\n",
      "     start     end      growth_rate |     0    \n",
      "   -------- --------       -------- | -------- \n",
      "0 |    5        5                 0 |     0    \n",
      "\n",
      "Events @ generation 0.34648402372748266\n",
      "   - Population parameter change for -1: initial_size -> 8 growth_rate -> 0 \n",
      "============================================================\n",
      "Epoch: 0.34648402372748266 -- 0.5300759388158871 generations\n",
      "============================================================\n",
      "     start     end      growth_rate |     0    \n",
      "   -------- --------       -------- | -------- \n",
      "0 |    8        8                 0 |     0    \n",
      "\n",
      "Events @ generation 0.5300759388158871\n",
      "   - Population parameter change for -1: initial_size -> 41 growth_rate -> 0 \n",
      "===========================================================\n",
      "Epoch: 0.5300759388158871 -- 0.5939158631666339 generations\n",
      "===========================================================\n",
      "     start     end      growth_rate |     0    \n",
      "   -------- --------       -------- | -------- \n",
      "0 |   41       41                 0 |     0    \n",
      "\n",
      "Events @ generation 0.5939158631666339\n",
      "   - Population parameter change for -1: initial_size -> 19 growth_rate -> 0 \n",
      "===========================================================\n",
      "Epoch: 0.5939158631666339 -- 1.1132398870237048 generations\n",
      "===========================================================\n",
      "     start     end      growth_rate |     0    \n",
      "   -------- --------       -------- | -------- \n",
      "0 |   19       19                 0 |     0    \n",
      "\n",
      "Events @ generation 1.1132398870237048\n",
      "   - Population parameter change for -1: initial_size -> 43 growth_rate -> 0 \n",
      "===========================================================\n",
      "Epoch: 1.1132398870237048 -- 1.2001431024622935 generations\n",
      "===========================================================\n",
      "     start     end      growth_rate |     0    \n",
      "   -------- --------       -------- | -------- \n",
      "0 |   43       43                 0 |     0    \n",
      "\n",
      "Events @ generation 1.2001431024622935\n",
      "   - Population parameter change for -1: initial_size -> 40 growth_rate -> 0 \n",
      "===========================================================\n",
      "Epoch: 1.2001431024622935 -- 1.2052345709407746 generations\n",
      "===========================================================\n",
      "     start     end      growth_rate |     0    \n",
      "   -------- --------       -------- | -------- \n",
      "0 |   40       40                 0 |     0    \n",
      "\n",
      "Events @ generation 1.2052345709407746\n",
      "   - Population parameter change for -1: initial_size -> 17 growth_rate -> 0 \n",
      "=========================================================\n",
      "Epoch: 1.2052345709407746 -- 1.43873801717181 generations\n",
      "=========================================================\n",
      "     start     end      growth_rate |     0    \n",
      "   -------- --------       -------- | -------- \n",
      "0 |   17       17                 0 |     0    \n",
      "\n",
      "Events @ generation 1.43873801717181\n",
      "   - Population parameter change for -1: initial_size -> 8 growth_rate -> 0 \n",
      "=========================================================\n",
      "Epoch: 1.43873801717181 -- 1.8634287938268823 generations\n",
      "=========================================================\n",
      "     start     end      growth_rate |     0    \n",
      "   -------- --------       -------- | -------- \n",
      "0 |    8        8                 0 |     0    \n",
      "\n",
      "Events @ generation 1.8634287938268823\n",
      "   - Population parameter change for -1: initial_size -> 49 growth_rate -> 0 \n",
      "===========================================================\n",
      "Epoch: 1.8634287938268823 -- 2.7512493613789504 generations\n",
      "===========================================================\n",
      "     start     end      growth_rate |     0    \n",
      "   -------- --------       -------- | -------- \n",
      "0 |   49       49                 0 |     0    \n",
      "\n",
      "Events @ generation 2.7512493613789504\n",
      "   - Population parameter change for -1: initial_size -> 20 growth_rate -> 0 \n",
      "==========================================================\n",
      "Epoch: 2.7512493613789504 -- 7.058852038538671 generations\n",
      "==========================================================\n",
      "     start     end      growth_rate |     0    \n",
      "   -------- --------       -------- | -------- \n",
      "0 |   20       20                 0 |     0    \n",
      "\n",
      "Events @ generation 7.058852038538671\n",
      "   - Population parameter change for -1: initial_size -> 20 growth_rate -> 0 \n",
      "=========================================================\n",
      "Epoch: 7.058852038538671 -- 8.097152494346602 generations\n",
      "=========================================================\n",
      "     start     end      growth_rate |     0    \n",
      "   -------- --------       -------- | -------- \n",
      "0 |   20       20                 0 |     0    \n",
      "\n",
      "Events @ generation 8.097152494346602\n",
      "   - Population parameter change for -1: initial_size -> 17 growth_rate -> 0 \n",
      "==========================================================\n",
      "Epoch: 8.097152494346602 -- 16.195367050348498 generations\n",
      "==========================================================\n",
      "     start     end      growth_rate |     0    \n",
      "   -------- --------       -------- | -------- \n",
      "0 |   17       17                 0 |     0    \n",
      "\n",
      "Events @ generation 16.195367050348498\n",
      "   - Population parameter change for -1: initial_size -> 1 growth_rate -> 0 \n",
      "============================================\n",
      "Epoch: 16.195367050348498 -- inf generations\n",
      "============================================\n",
      "     start     end      growth_rate |     0    \n",
      "   -------- --------       -------- | -------- \n",
      "0 |    1        1                 0 |     0    \n",
      "\n"
     ]
    }
   ],
   "source": [
    "ev = demographic_events=ulg.generate_demographic_events(POPULATION)\n",
    "dd = msprime.DemographyDebugger(demographic_events=ev)\n",
    "dd.print_history()"
   ]
  },
  {
   "cell_type": "code",
   "execution_count": 4,
   "metadata": {},
   "outputs": [
    {
     "name": "stdout",
     "output_type": "stream",
     "text": [
      "CPU times: user 6.47 s, sys: 817 ms, total: 7.28 s\n",
      "Wall time: 7.29 s\n"
     ]
    }
   ],
   "source": [
    "%%time\n",
    "data = next(dg)"
   ]
  },
  {
   "cell_type": "code",
   "execution_count": 10,
   "metadata": {},
   "outputs": [
    {
     "data": {
      "text/plain": [
       "3000000000"
      ]
     },
     "execution_count": 10,
     "metadata": {},
     "output_type": "execute_result"
    }
   ],
   "source": []
  },
  {
   "cell_type": "code",
   "execution_count": 34,
   "metadata": {},
   "outputs": [],
   "source": [
    "import math\n",
    "\n",
    "def out_of_africa():\n",
    "    # First we set out the maximum likelihood values of the various parameters\n",
    "    # given in Table 1.\n",
    "    N_A = 7300\n",
    "    N_B = 2100\n",
    "    N_AF = 12300\n",
    "    N_EU0 = 1000\n",
    "    N_AS0 = 510\n",
    "    # Times are provided in years, so we convert into generations.\n",
    "    generation_time = 25\n",
    "    T_AF = 220e3 / generation_time\n",
    "    T_B = 140e3 / generation_time\n",
    "    T_EU_AS = 21.2e3 / generation_time\n",
    "    # We need to work out the starting (diploid) population sizes based on\n",
    "    # the growth rates provided for these two populations\n",
    "    r_EU = 0.004\n",
    "    r_AS = 0.0055\n",
    "    N_EU = N_EU0 / math.exp(-r_EU * T_EU_AS)\n",
    "    N_AS = N_AS0 / math.exp(-r_AS * T_EU_AS)\n",
    "    # Migration rates during the various epochs.\n",
    "    m_AF_B = 25e-5\n",
    "    m_AF_EU = 3e-5\n",
    "    m_AF_AS = 1.9e-5\n",
    "    m_EU_AS = 9.6e-5\n",
    "    # Population IDs correspond to their indexes in the population\n",
    "    # configuration array. Therefore, we have 0=YRI, 1=CEU and 2=CHB\n",
    "    # initially.\n",
    "    population_configurations = [\n",
    "        msprime.PopulationConfiguration(\n",
    "            sample_size=0, initial_size=N_AF),\n",
    "        msprime.PopulationConfiguration(\n",
    "            sample_size=1, initial_size=N_EU, growth_rate=r_EU),\n",
    "        msprime.PopulationConfiguration(\n",
    "            sample_size=1, initial_size=N_AS, growth_rate=r_AS)\n",
    "    ]\n",
    "    migration_matrix = [\n",
    "        [      0, m_AF_EU, m_AF_AS],\n",
    "        [m_AF_EU,       0, m_EU_AS],\n",
    "        [m_AF_AS, m_EU_AS,       0],\n",
    "    ]\n",
    "    demographic_events = [\n",
    "        # CEU and CHB merge into B with rate changes at T_EU_AS\n",
    "        msprime.MassMigration(\n",
    "            time=T_EU_AS, source=2, destination=1, proportion=1.0),\n",
    "        msprime.MigrationRateChange(time=T_EU_AS, rate=0),\n",
    "        msprime.MigrationRateChange(\n",
    "            time=T_EU_AS, rate=m_AF_B, matrix_index=(0, 1)),\n",
    "        msprime.MigrationRateChange(\n",
    "            time=T_EU_AS, rate=m_AF_B, matrix_index=(1, 0)),\n",
    "        msprime.PopulationParametersChange(\n",
    "            time=T_EU_AS, initial_size=N_B, growth_rate=0, population_id=1),\n",
    "        # Population B merges into YRI at T_B\n",
    "        msprime.MassMigration(\n",
    "            time=T_B, source=1, destination=0, proportion=1.0),\n",
    "        msprime.MigrationRateChange(time=T_B, rate=0),\n",
    "        # Size changes to N_A at T_AF\n",
    "        msprime.PopulationParametersChange(\n",
    "            time=T_AF, initial_size=N_A, population_id=0)\n",
    "    ]\n",
    "    # Use the demography debugger to print out the demographic history\n",
    "    # that we have just described.\n",
    "    dd = msprime.DemographyDebugger(\n",
    "        population_configurations=population_configurations,\n",
    "        migration_matrix=migration_matrix,\n",
    "        demographic_events=demographic_events)\n",
    "    dd.print_history()\n",
    "    return "
   ]
  },
  {
   "cell_type": "code",
   "execution_count": 35,
   "metadata": {},
   "outputs": [
    {
     "name": "stdout",
     "output_type": "stream",
     "text": [
      "Model =  hudson(reference_size=1)\n",
      "=============================\n",
      "Epoch: 0 -- 848.0 generations\n",
      "=============================\n",
      "     start     end      growth_rate |     0        1        2    \n",
      "   -------- --------       -------- | -------- -------- -------- \n",
      "0 |1.23e+04 1.23e+04              0 |     0      3e-05   1.9e-05 \n",
      "1 |2.97e+04   1e+03           0.004 |   3e-05      0     9.6e-05 \n",
      "2 |5.41e+04    510           0.0055 |  1.9e-05  9.6e-05     0    \n",
      "\n",
      "Events @ generation 848.0\n",
      "   - Mass migration: Lineages moved with probability 1.0 backwards in time with source 2 & dest 1\n",
      "                     (equivalent to migration from 1 to 2 forwards in time)\n",
      "   - Migration rate change to 0 everywhere\n",
      "   - Migration rate change for (0, 1) to 0.00025\n",
      "   - Migration rate change for (1, 0) to 0.00025\n",
      "   - Population parameter change for 1: initial_size -> 2100 growth_rate -> 0 \n",
      "==================================\n",
      "Epoch: 848.0 -- 5600.0 generations\n",
      "==================================\n",
      "     start     end      growth_rate |     0        1        2    \n",
      "   -------- --------       -------- | -------- -------- -------- \n",
      "0 |1.23e+04 1.23e+04              0 |     0     0.00025     0    \n",
      "1 | 2.1e+03  2.1e+03              0 |  0.00025     0        0    \n",
      "2 |   510   2.27e-09         0.0055 |     0        0        0    \n",
      "\n",
      "Events @ generation 5600.0\n",
      "   - Mass migration: Lineages moved with probability 1.0 backwards in time with source 1 & dest 0\n",
      "                     (equivalent to migration from 0 to 1 forwards in time)\n",
      "   - Migration rate change to 0 everywhere\n",
      "===================================\n",
      "Epoch: 5600.0 -- 8800.0 generations\n",
      "===================================\n",
      "     start     end      growth_rate |     0        1        2    \n",
      "   -------- --------       -------- | -------- -------- -------- \n",
      "0 |1.23e+04 1.23e+04              0 |     0        0        0    \n",
      "1 | 2.1e+03  2.1e+03              0 |     0        0        0    \n",
      "2 |2.27e-09 5.17e-17         0.0055 |     0        0        0    \n",
      "\n",
      "Events @ generation 8800.0\n",
      "   - Population parameter change for 0: initial_size -> 7300 \n",
      "================================\n",
      "Epoch: 8800.0 -- inf generations\n",
      "================================\n",
      "     start     end      growth_rate |     0        1        2    \n",
      "   -------- --------       -------- | -------- -------- -------- \n",
      "0 | 7.3e+03  7.3e+03              0 |     0        0        0    \n",
      "1 | 2.1e+03  2.1e+03              0 |     0        0        0    \n",
      "2 |5.17e-17     0            0.0055 |     0        0        0    \n",
      "\n"
     ]
    }
   ],
   "source": [
    "out_of_africa()"
   ]
  },
  {
   "cell_type": "code",
   "execution_count": null,
   "metadata": {},
   "outputs": [],
   "source": []
  }
 ],
 "metadata": {
  "kernelspec": {
   "display_name": "Python 3",
   "language": "python",
   "name": "python3"
  },
  "language_info": {
   "codemirror_mode": {
    "name": "ipython",
    "version": 3
   },
   "file_extension": ".py",
   "mimetype": "text/x-python",
   "name": "python",
   "nbconvert_exporter": "python",
   "pygments_lexer": "ipython3",
   "version": "3.8.5"
  }
 },
 "nbformat": 4,
 "nbformat_minor": 4
}
