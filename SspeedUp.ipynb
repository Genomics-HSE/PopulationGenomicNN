{
 "cells": [
  {
   "cell_type": "code",
   "execution_count": 3,
   "metadata": {},
   "outputs": [],
   "source": [
    "import msprime\n",
    "import numpy as np"
   ]
  },
  {
   "cell_type": "code",
   "execution_count": 13,
   "metadata": {},
   "outputs": [],
   "source": [
    "RHO_HUMAN = 1.6*10e-9\n",
    "MU_HUMAN = 1.25*10e-8\n",
    "LENGTH_NORMALIZE_CONST = 4\n",
    "L = int(3e9)\n",
    "data = msprime.simulate(sample_size=100,\n",
    "                        recombination_rate=RHO_HUMAN,\n",
    "                        mutation_rate=MU_HUMAN,\n",
    "                        random_seed=42,\n",
    "                        length=L\n",
    "                       )"
   ]
  },
  {
   "cell_type": "code",
   "execution_count": 14,
   "metadata": {},
   "outputs": [],
   "source": [
    "haplotype = np.zeros(shape=L, dtype=int)\n",
    "mutations = [min(L-1, round(mutation.position)) for mutation in data.mutations()]\n",
    "\n",
    "for mutation in mutations: haplotype[mutations] = 1\n",
    "\n",
    "del mutations"
   ]
  },
  {
   "cell_type": "code",
   "execution_count": 30,
   "metadata": {},
   "outputs": [],
   "source": [
    "recombination_points = []\n",
    "coal_times = []\n",
    "min_t = 10**100\n",
    "max_t = 0\n",
    "\n",
    "for tree in data.trees():\n",
    "    point = round(tree.get_interval()[0])\n",
    "    if point not in recombination_points:\n",
    "        recombination_points.append(point)\n",
    "        t = tree.total_branch_length/LENGTH_NORMALIZE_CONST\n",
    "        coal_times.append(t)\n",
    "        min_t = min(t, min_t)\n",
    "        max_t = max(t, max_t)\n",
    "        \n",
    "recombination_points.append(L)"
   ]
  },
  {
   "cell_type": "code",
   "execution_count": 22,
   "metadata": {},
   "outputs": [],
   "source": [
    "N = 20\n",
    "a = (-np.log(max_t) + N*np.log(min_t))/(N-1)\n",
    "B = (-np.log(min_t) + np.log(max_t))/(N-1) + 10**(-10)\n",
    "\n",
    "def to_T(time):\n",
    "    return round((np.log(time)-a)/B)\n",
    "\n",
    "step_of_discratization = max_t/N\n",
    "\n",
    "def discretization(t):\n",
    "    return min(int(t/step_of_discratization) + 1, N)\n",
    "\n",
    "d_times = [to_T(t) for t in coal_times]\n"
   ]
  },
  {
   "cell_type": "code",
   "execution_count": 19,
   "metadata": {},
   "outputs": [
    {
     "data": {
      "text/plain": [
       "924"
      ]
     },
     "execution_count": 19,
     "metadata": {},
     "output_type": "execute_result"
    }
   ],
   "source": [
    "len(recombination_points)"
   ]
  },
  {
   "cell_type": "code",
   "execution_count": 41,
   "metadata": {},
   "outputs": [],
   "source": [
    "prioty_distribution = [0.0 for i in range(N+1)]\n",
    "for i in range(1,len(recombination_points)):\n",
    "    l = recombination_points[i] - recombination_points[i-1]\n",
    "    prioty_distribution[d_times[i-1]] += l\n",
    "    \n",
    "prioty_distribution = [p/L\n",
    "                       for p in prioty_distribution]"
   ]
  },
  {
   "cell_type": "code",
   "execution_count": 42,
   "metadata": {},
   "outputs": [
    {
     "data": {
      "text/plain": [
       "[0.0,\n",
       " 0.0031179913333333332,\n",
       " 0.022126026333333333,\n",
       " 0.06122505166666667,\n",
       " 0.066563773,\n",
       " 0.09347601066666666,\n",
       " 0.080505526,\n",
       " 0.11620970833333333,\n",
       " 0.07653717133333333,\n",
       " 0.078465814,\n",
       " 0.08699415766666667,\n",
       " 0.08240898266666667,\n",
       " 0.13189825733333332,\n",
       " 0.070251681,\n",
       " 0.020561687666666665,\n",
       " 0.006985862666666667,\n",
       " 0.002389426,\n",
       " 4.607e-05,\n",
       " 0.0,\n",
       " 0.0,\n",
       " 0.00023680233333333333]"
      ]
     },
     "execution_count": 42,
     "metadata": {},
     "output_type": "execute_result"
    }
   ],
   "source": [
    "prioty_distribution"
   ]
  },
  {
   "cell_type": "code",
   "execution_count": 43,
   "metadata": {},
   "outputs": [],
   "source": [
    "intervals_starts = [np.e**(B*i+a) for i in range(N)]"
   ]
  },
  {
   "cell_type": "code",
   "execution_count": 44,
   "metadata": {},
   "outputs": [
    {
     "data": {
      "text/plain": [
       "[3.1057307005812773,\n",
       " 3.3109884011895345,\n",
       " 3.529811580495318,\n",
       " 3.763096780804947,\n",
       " 4.011799796893816,\n",
       " 4.276939592001285,\n",
       " 4.559602472633626,\n",
       " 4.860946539279629,\n",
       " 5.182206431273955,\n",
       " 5.524698385248436,\n",
       " 5.889825627896359,\n",
       " 6.279084125144471,\n",
       " 6.6940687112876756,\n",
       " 7.136479623198172,\n",
       " 7.608129466380382,\n",
       " 8.11095064141236,\n",
       " 8.647003261200602,\n",
       " 9.218483591486144,\n",
       " 9.827733049183573,\n",
       " 10.47724779542015]"
      ]
     },
     "execution_count": 44,
     "metadata": {},
     "output_type": "execute_result"
    }
   ],
   "source": [
    "intervals_starts"
   ]
  },
  {
   "cell_type": "code",
   "execution_count": null,
   "metadata": {},
   "outputs": [],
   "source": []
  },
  {
   "cell_type": "code",
   "execution_count": null,
   "metadata": {},
   "outputs": [],
   "source": []
  },
  {
   "cell_type": "code",
   "execution_count": null,
   "metadata": {},
   "outputs": [],
   "source": []
  }
 ],
 "metadata": {
  "kernelspec": {
   "display_name": "Python 3",
   "language": "python",
   "name": "python3"
  },
  "language_info": {
   "codemirror_mode": {
    "name": "ipython",
    "version": 3
   },
   "file_extension": ".py",
   "mimetype": "text/x-python",
   "name": "python",
   "nbconvert_exporter": "python",
   "pygments_lexer": "ipython3",
   "version": "3.8.5"
  }
 },
 "nbformat": 4,
 "nbformat_minor": 4
}
