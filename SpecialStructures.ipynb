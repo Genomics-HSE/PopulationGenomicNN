{
 "cells": [
  {
   "cell_type": "code",
   "execution_count": 1,
   "metadata": {},
   "outputs": [],
   "source": [
    "import msprime"
   ]
  },
  {
   "cell_type": "code",
   "execution_count": 2,
   "metadata": {},
   "outputs": [],
   "source": [
    "# const population\n",
    "demographic_events_const = [\n",
    "    msprime.PopulationParametersChange(100, 1, growth_rate=0)\n",
    "]"
   ]
  },
  {
   "cell_type": "code",
   "execution_count": 3,
   "metadata": {},
   "outputs": [],
   "source": [
    "# one big growth\n",
    "demographic_events_big = [\n",
    "    msprime.PopulationParametersChange(50, 2500, growth_rate=0),\n",
    "    msprime.PopulationParametersChange(100, 1, growth_rate=0)\n",
    "]"
   ]
  },
  {
   "cell_type": "code",
   "execution_count": 4,
   "metadata": {},
   "outputs": [],
   "source": [
    "# zig-zag\n",
    "# one big growth\n",
    "demographic_events_zig = [\n",
    "    msprime.PopulationParametersChange(50, 2500, growth_rate=0.3),\n",
    "    msprime.PopulationParametersChange(100, 1, growth_rate=0)\n",
    "]"
   ]
  },
  {
   "cell_type": "code",
   "execution_count": 5,
   "metadata": {},
   "outputs": [],
   "source": [
    "# bottle cheak\n",
    "demographic_events_bc = [\n",
    "    msprime.PopulationParametersChange(50, 1000, growth_rate=0),\n",
    "    msprime.PopulationParametersChange(75, 5000, growth_rate=0),\n",
    "    msprime.PopulationParametersChange(100, 1, growth_rate=0)\n",
    "]"
   ]
  },
  {
   "cell_type": "code",
   "execution_count": 6,
   "metadata": {},
   "outputs": [],
   "source": [
    "easy_pop = [\n",
    "    demographic_events_const,\n",
    "    demographic_events_big,\n",
    "    demographic_events_zig,\n",
    "    demographic_events_bc,\n",
    "]"
   ]
  },
  {
   "cell_type": "code",
   "execution_count": 7,
   "metadata": {},
   "outputs": [],
   "source": [
    "# out_of_africa\n",
    "\n",
    "import math\n",
    "def out_of_africa():\n",
    "    # First we set out the maximum likelihood values of the various parameters\n",
    "    # given in Table 1.\n",
    "    N_A = 7300\n",
    "    N_B = 2100\n",
    "    N_AF = 12300\n",
    "    N_EU0 = 1000\n",
    "    N_AS0 = 510\n",
    "    # Times are provided in years, so we convert into generations.\n",
    "    generation_time = 25\n",
    "    T_AF = 220e3 / generation_time\n",
    "    T_B = 140e3 / generation_time\n",
    "    T_EU_AS = 21.2e3 / generation_time\n",
    "    # We need to work out the starting (diploid) population sizes based on\n",
    "    # the growth rates provided for these two populations\n",
    "    r_EU = 0.004\n",
    "    r_AS = 0.0055\n",
    "    N_EU = N_EU0 / math.exp(-r_EU * T_EU_AS)\n",
    "    N_AS = N_AS0 / math.exp(-r_AS * T_EU_AS)\n",
    "    # Migration rates during the various epochs.\n",
    "    m_AF_B = 25e-5\n",
    "    m_AF_EU = 3e-5\n",
    "    m_AF_AS = 1.9e-5\n",
    "    m_EU_AS = 9.6e-5\n",
    "    # Population IDs correspond to their indexes in the population\n",
    "    # configuration array. Therefore, we have 0=YRI, 1=CEU and 2=CHB\n",
    "    # initially.\n",
    "    population_configurations = [\n",
    "        msprime.PopulationConfiguration(\n",
    "            sample_size=0, initial_size=N_AF),\n",
    "        msprime.PopulationConfiguration(\n",
    "            sample_size=1, initial_size=N_EU, growth_rate=r_EU),\n",
    "        msprime.PopulationConfiguration(\n",
    "            sample_size=1, initial_size=N_AS, growth_rate=r_AS)\n",
    "    ]\n",
    "    migration_matrix = [\n",
    "        [      0, m_AF_EU, m_AF_AS],\n",
    "        [m_AF_EU,       0, m_EU_AS],\n",
    "        [m_AF_AS, m_EU_AS,       0],\n",
    "    ]\n",
    "    demographic_events = [\n",
    "        # CEU and CHB merge into B with rate changes at T_EU_AS\n",
    "        msprime.MassMigration(\n",
    "            time=T_EU_AS, source=2, destination=1, proportion=1.0),\n",
    "        msprime.MigrationRateChange(time=T_EU_AS, rate=0),\n",
    "        msprime.MigrationRateChange(\n",
    "            time=T_EU_AS, rate=m_AF_B, matrix_index=(0, 1)),\n",
    "        msprime.MigrationRateChange(\n",
    "            time=T_EU_AS, rate=m_AF_B, matrix_index=(1, 0)),\n",
    "        msprime.PopulationParametersChange(\n",
    "            time=T_EU_AS, initial_size=N_B, growth_rate=0, population_id=1),\n",
    "        # Population B merges into YRI at T_B\n",
    "        msprime.MassMigration(\n",
    "            time=T_B, source=1, destination=0, proportion=1.0),\n",
    "        msprime.MigrationRateChange(time=T_B, rate=0),\n",
    "        # Size changes to N_A at T_AF\n",
    "        msprime.PopulationParametersChange(\n",
    "            time=T_AF, initial_size=N_A, population_id=0)\n",
    "    ]\n",
    "    # Use the demography debugger to print out the demographic history\n",
    "    # that we have just described.\n",
    "    dd = msprime.DemographyDebugger(\n",
    "        population_configurations=population_configurations,\n",
    "        migration_matrix=migration_matrix,\n",
    "        demographic_events=demographic_events)\n",
    "    # dd.print_history()\n",
    "    \n",
    "    return population_configurations, migration_matrix, demographic_events"
   ]
  },
  {
   "cell_type": "code",
   "execution_count": null,
   "metadata": {},
   "outputs": [],
   "source": []
  },
  {
   "cell_type": "code",
   "execution_count": 8,
   "metadata": {},
   "outputs": [
    {
     "name": "stdout",
     "output_type": "stream",
     "text": [
      "1\n",
      "1\n",
      "1\n",
      "1\n"
     ]
    }
   ],
   "source": [
    "import utilities.light_generator as ulg\n",
    "import msprime\n",
    "\n",
    "\n",
    "MU_HUMAN = ulg.give_mu()\n",
    "RHO_HUMAN = MU_HUMAN * ulg.give_random_coeff()\n",
    "POPULATION = 5000\n",
    "num_replicates = 10\n",
    "lengt = int(3e7)\n",
    "is_experement = True\n",
    "\n",
    "for demographic_events in easy_pop:\n",
    "    \n",
    "    dg = ulg.DataGenerator(\n",
    "        recombination_rate=RHO_HUMAN,\n",
    "        mutation_rate=MU_HUMAN,\n",
    "        sample_size=POPULATION,\n",
    "        demographic_events=demographic_events,\n",
    "        num_replicates=num_replicates,\n",
    "        lengt=lengt,\n",
    "        random_seed=42,\n",
    "        is_experement=is_experement)\n",
    "    dg.run_simulation()\n",
    "    \n",
    "    print(1)\n",
    "    data = next(dg)"
   ]
  },
  {
   "cell_type": "code",
   "execution_count": 9,
   "metadata": {},
   "outputs": [],
   "source": [
    "population_configurations, migration_matrix, demographic_events = out_of_africa()\n",
    "\n",
    "\n",
    "dg = ulg.DataGenerator(\n",
    "    recombination_rate=RHO_HUMAN,\n",
    "    mutation_rate=MU_HUMAN,\n",
    "    demographic_events=demographic_events,\n",
    "    population_configurations = population_configurations,\n",
    "    migration_matrix = migration_matrix,\n",
    "    num_replicates=num_replicates,\n",
    "    lengt=lengt,\n",
    "    random_seed=42,\n",
    "    is_experement=is_experement)\n",
    "dg.run_simulation()\n",
    "\n",
    "data = next(dg)"
   ]
  },
  {
   "cell_type": "code",
   "execution_count": 10,
   "metadata": {},
   "outputs": [
    {
     "data": {
      "text/plain": [
       "(array([0, 0, 0, ..., 0, 0, 0]),\n",
       " [0.0,\n",
       "  0.0010491333333333334,\n",
       "  0.007317666666666667,\n",
       "  0.0252635,\n",
       "  0.07796913333333333,\n",
       "  0.0807364,\n",
       "  0.08254063333333334,\n",
       "  0.062021266666666665,\n",
       "  0.0752329,\n",
       "  0.051672866666666664,\n",
       "  0.050973833333333336,\n",
       "  0.0972401,\n",
       "  0.10754103333333333,\n",
       "  0.0976238,\n",
       "  0.08011243333333333,\n",
       "  0.05707913333333333,\n",
       "  0.030444633333333332,\n",
       "  0.0121938,\n",
       "  0.0025800333333333334,\n",
       "  0.0003803666666666667,\n",
       "  2.7333333333333335e-05],\n",
       " [145.38011839135496,\n",
       "  200.68858815870664,\n",
       "  277.038634049771,\n",
       "  382.4353216111517,\n",
       "  527.9291666935865,\n",
       "  728.7747477707286,\n",
       "  1006.0301011869465,\n",
       "  1388.7645909660714,\n",
       "  1917.1067414838349,\n",
       "  2646.451588808227,\n",
       "  3653.2686784486164,\n",
       "  5043.11966006678,\n",
       "  6961.72609909225,\n",
       "  9610.247930968308,\n",
       "  13266.374456576632,\n",
       "  18313.43920430745,\n",
       "  25280.61126177564,\n",
       "  34898.37701367948,\n",
       "  48175.129373963005,\n",
       "  66502.89465577029])"
      ]
     },
     "execution_count": 10,
     "metadata": {},
     "output_type": "execute_result"
    }
   ],
   "source": [
    "data"
   ]
  },
  {
   "cell_type": "code",
   "execution_count": null,
   "metadata": {},
   "outputs": [],
   "source": []
  }
 ],
 "metadata": {
  "kernelspec": {
   "display_name": "Python 3",
   "language": "python",
   "name": "python3"
  },
  "language_info": {
   "codemirror_mode": {
    "name": "ipython",
    "version": 3
   },
   "file_extension": ".py",
   "mimetype": "text/x-python",
   "name": "python",
   "nbconvert_exporter": "python",
   "pygments_lexer": "ipython3",
   "version": "3.8.5"
  }
 },
 "nbformat": 4,
 "nbformat_minor": 4
}
